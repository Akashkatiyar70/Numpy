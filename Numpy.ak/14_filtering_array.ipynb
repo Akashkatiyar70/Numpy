{
 "cells": [
  {
   "cell_type": "code",
   "execution_count": 1,
   "id": "1c5711a3-e31d-4368-bbab-5d1bb61079d7",
   "metadata": {},
   "outputs": [
    {
     "name": "stdout",
     "output_type": "stream",
     "text": [
      "[41 43]\n"
     ]
    }
   ],
   "source": [
    "# Getting some elements out of an existing array and creating a new array is called filtering.\n",
    "# a boolen index list is a list of boolean corresponding to indexs in the array.(True anf false)\n",
    "\n",
    "# create an array from the element on index 0 to 2:\n",
    "\n",
    "import numpy as np\n",
    "ak= np.array([41,42,43,44])\n",
    "ak1= [True,False,True,False]\n",
    "ak3= ak[ak1]\n",
    "print(ak3)"
   ]
  },
  {
   "cell_type": "code",
   "execution_count": 3,
   "id": "c3f7945f-5365-4320-8e94-94b95f659a11",
   "metadata": {},
   "outputs": [
    {
     "name": "stdout",
     "output_type": "stream",
     "text": [
      "[False, False, True, True]\n",
      "[43 44]\n"
     ]
    }
   ],
   "source": [
    "# Now we will create a filter array\n",
    "# that will return only values higher than 42.\n",
    "import numpy as np\n",
    "ak= np.array([41,42,43,44])\n",
    "Filter_ak= []\n",
    "for i in ak:\n",
    "    if i >42:\n",
    "        Filter_ak.append(True)\n",
    "    else:\n",
    "        Filter_ak.append(False)\n",
    "newak = ak[Filter_ak]\n",
    "print(Filter_ak)\n",
    "print(newak)\n"
   ]
  },
  {
   "cell_type": "code",
   "execution_count": 5,
   "id": "5629a563-08c2-4b7a-b114-98f5406b36e6",
   "metadata": {},
   "outputs": [
    {
     "name": "stdout",
     "output_type": "stream",
     "text": [
      "[False, True, False, True, False, True, False, True]\n",
      "[2 4 6 8]\n"
     ]
    }
   ],
   "source": [
    "# Crete a filter array thet will return only even element from the original array.\n",
    "import numpy as np \n",
    "ak = np.array([1,2,3,4,5,6,7,8])\n",
    "akempty=[]\n",
    "for i in ak:\n",
    "    if i%2 == 0:\n",
    "        akempty.append(True)\n",
    "    else:\n",
    "        akempty.append(False)\n",
    "aknew = ak[akempty]\n",
    "print(akempty)\n",
    "print(aknew)"
   ]
  },
  {
   "cell_type": "code",
   "execution_count": 6,
   "id": "0d6a6196-da73-4fc9-b9f7-8d0f2cbb7140",
   "metadata": {},
   "outputs": [
    {
     "name": "stdout",
     "output_type": "stream",
     "text": [
      "[False False  True  True]\n",
      "[43 44]\n"
     ]
    }
   ],
   "source": [
    "# Yes you can also create filter directly from array\n",
    "# that will return only values higher than 42.\n",
    "import numpy as np\n",
    "ak= np.array([41,42,43,44])\n",
    "akempty = ak > 42\n",
    "aknew = ak[akempty]\n",
    "print(akempty)\n",
    "print(aknew)"
   ]
  },
  {
   "cell_type": "code",
   "execution_count": 7,
   "id": "1dd940aa-2119-406a-95fb-f1a7c256cd86",
   "metadata": {},
   "outputs": [
    {
     "name": "stdout",
     "output_type": "stream",
     "text": [
      "[False  True False  True False  True False  True]\n",
      "[2 4 6 8]\n"
     ]
    }
   ],
   "source": [
    "# Yes you can also create filter directly from array\n",
    "# Crete a filter array thet will return only even element from the original array.\n",
    "import numpy as np \n",
    "ak = np.array([1,2,3,4,5,6,7,8])\n",
    "akempty= ak%2 == 0\n",
    "aknew = ak[akempty]\n",
    "print(akempty)\n",
    "print(aknew)"
   ]
  }
 ],
 "metadata": {
  "kernelspec": {
   "display_name": "Python 3 (ipykernel)",
   "language": "python",
   "name": "python3"
  },
  "language_info": {
   "codemirror_mode": {
    "name": "ipython",
    "version": 3
   },
   "file_extension": ".py",
   "mimetype": "text/x-python",
   "name": "python",
   "nbconvert_exporter": "python",
   "pygments_lexer": "ipython3",
   "version": "3.12.7"
  }
 },
 "nbformat": 4,
 "nbformat_minor": 5
}
