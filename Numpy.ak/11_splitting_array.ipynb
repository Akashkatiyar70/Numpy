{
 "cells": [
  {
   "cell_type": "code",
   "execution_count": 1,
   "id": "bb5de1a4-83d2-49b1-9e2d-b920ada8363e",
   "metadata": {},
   "outputs": [
    {
     "name": "stdout",
     "output_type": "stream",
     "text": [
      "[array([1, 2]), array([3, 4]), array([5, 6])]\n"
     ]
    }
   ],
   "source": [
    "# spliting arrray in numpy - it isreverse to Joining, breaking the array.\n",
    "# array_split()\n",
    "\n",
    "# splite the array in 3 parts:\n",
    "import numpy as np\n",
    "ak = np.array([1,2,3,4,5,6])\n",
    "ak1= np.array_split(ak, 3)\n",
    "print(ak1)\n"
   ]
  },
  {
   "cell_type": "code",
   "execution_count": 4,
   "id": "628810e0-49bd-41a7-869b-0ee392576caf",
   "metadata": {},
   "outputs": [
    {
     "name": "stdout",
     "output_type": "stream",
     "text": [
      "[array([1, 2]), array([3, 4]), array([5]), array([6])]\n"
     ]
    }
   ],
   "source": [
    "# Now we will split this array in 4 parts\n",
    "\n",
    "import numpy as np\n",
    "ak = np.array([1,2,3,4,5,6])\n",
    "ak1= np.array_split(ak, 4)\n",
    "print(ak1)"
   ]
  },
  {
   "cell_type": "code",
   "execution_count": 8,
   "id": "d5838877-c21e-4b8d-8c59-3f14e2d07fe7",
   "metadata": {},
   "outputs": [
    {
     "name": "stdout",
     "output_type": "stream",
     "text": [
      "[1 2]\n",
      "[3 4]\n",
      "[5 6]\n"
     ]
    }
   ],
   "source": [
    "# split into array with index\n",
    "\n",
    "import numpy as np\n",
    "ak = np.array([1,2,3,4,5,6])\n",
    "ak1= np.array_split(ak, 3)\n",
    "print(ak1[0])\n",
    "print(ak1[1])\n",
    "print(ak1[2])\n"
   ]
  },
  {
   "cell_type": "code",
   "execution_count": 9,
   "id": "ff74f7aa-335d-4774-a4bf-3d569a8cd764",
   "metadata": {},
   "outputs": [
    {
     "name": "stdout",
     "output_type": "stream",
     "text": [
      "[array([[1, 2],\n",
      "       [3, 4]]), array([[5, 6],\n",
      "       [7, 8]]), array([[ 9, 10],\n",
      "       [11, 12]])]\n"
     ]
    }
   ],
   "source": [
    "# splitting the 2-D array\n",
    "import numpy as np\n",
    "ak = np.array([[1,2],[3,4],[5,6],[7,8],[9,10],[11,12]])\n",
    "ak1= np.array_split(ak, 3)\n",
    "print(ak1)"
   ]
  },
  {
   "cell_type": "code",
   "execution_count": 10,
   "id": "e286f65a-d795-4d38-be6b-b6472417c7d1",
   "metadata": {},
   "outputs": [
    {
     "name": "stdout",
     "output_type": "stream",
     "text": [
      "[array([[1, 2, 3],\n",
      "       [4, 5, 6]]), array([[ 7,  8,  9],\n",
      "       [10, 11, 12]]), array([[13, 14, 15],\n",
      "       [16, 17, 18]])]\n"
     ]
    }
   ],
   "source": [
    "#splite the 2-D array into three 2-D arrays\n",
    "\n",
    "import numpy as np\n",
    "ak = np.array([[1,2,3],[4,5,6],[7,8,9],[10,11,12],[13,14,15],[16,17,18]])\n",
    "ak1= np.array_split(ak, 3)\n",
    "print(ak1)"
   ]
  },
  {
   "cell_type": "code",
   "execution_count": 11,
   "id": "2ac375ff-cd58-4f55-813a-81ba04a80b05",
   "metadata": {},
   "outputs": [
    {
     "name": "stdout",
     "output_type": "stream",
     "text": [
      "[array([[ 1],\n",
      "       [ 4],\n",
      "       [ 7],\n",
      "       [10],\n",
      "       [13],\n",
      "       [16]]), array([[ 2],\n",
      "       [ 5],\n",
      "       [ 8],\n",
      "       [11],\n",
      "       [14],\n",
      "       [17]]), array([[ 3],\n",
      "       [ 6],\n",
      "       [ 9],\n",
      "       [12],\n",
      "       [15],\n",
      "       [18]])]\n"
     ]
    }
   ],
   "source": [
    "# spliting the 2-D into three 2-Dalong with rows\n",
    "import numpy as np\n",
    "ak = np.array([[1,2,3],[4,5,6],[7,8,9],[10,11,12],[13,14,15],[16,17,18]])\n",
    "ak1= np.array_split(ak, 3,axis=1)\n",
    "print(ak1)"
   ]
  },
  {
   "cell_type": "code",
   "execution_count": 12,
   "id": "a37139e0-2eb0-4fa8-bfed-d0fa4ea05d60",
   "metadata": {},
   "outputs": [
    {
     "name": "stdout",
     "output_type": "stream",
     "text": [
      "[array([[ 1],\n",
      "       [ 4],\n",
      "       [ 7],\n",
      "       [10],\n",
      "       [13],\n",
      "       [16]]), array([[ 2],\n",
      "       [ 5],\n",
      "       [ 8],\n",
      "       [11],\n",
      "       [14],\n",
      "       [17]]), array([[ 3],\n",
      "       [ 6],\n",
      "       [ 9],\n",
      "       [12],\n",
      "       [15],\n",
      "       [18]])]\n"
     ]
    }
   ],
   "source": [
    "# alternate solution is using the hsplit(), opposite hstack()\n",
    "import numpy as np\n",
    "ak = np.array([[1,2,3],[4,5,6],[7,8,9],[10,11,12],[13,14,15],[16,17,18]])\n",
    "ak1= np.hsplit(ak, 3)\n",
    "print(ak1)"
   ]
  }
 ],
 "metadata": {
  "kernelspec": {
   "display_name": "Python 3 (ipykernel)",
   "language": "python",
   "name": "python3"
  },
  "language_info": {
   "codemirror_mode": {
    "name": "ipython",
    "version": 3
   },
   "file_extension": ".py",
   "mimetype": "text/x-python",
   "name": "python",
   "nbconvert_exporter": "python",
   "pygments_lexer": "ipython3",
   "version": "3.12.7"
  }
 },
 "nbformat": 4,
 "nbformat_minor": 5
}
