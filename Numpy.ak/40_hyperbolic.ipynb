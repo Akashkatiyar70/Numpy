{
 "cells": [
  {
   "cell_type": "markdown",
   "id": "87e68015-9a46-4a74-81db-70455e2044e8",
   "metadata": {},
   "source": [
    "# Hyperbolic Functions\n",
    "NumPy provides the ufuncs sinh(), cosh() and tanh() that take values in radians and produce the corresponding sinh, cosh and tanh values"
   ]
  },
  {
   "cell_type": "code",
   "execution_count": 1,
   "id": "791118aa-8bcd-48ed-8e4e-7fef0fe30e80",
   "metadata": {},
   "outputs": [
    {
     "name": "stdout",
     "output_type": "stream",
     "text": [
      "2.3012989023072947\n"
     ]
    }
   ],
   "source": [
    "#Find sinh value of PI/2:\n",
    "import numpy as np\n",
    "ak=np.sinh(np.pi/2)\n",
    "print(ak)"
   ]
  },
  {
   "cell_type": "code",
   "execution_count": 2,
   "id": "ae5e62e7-9979-48a9-ac1d-19f6d2247b8a",
   "metadata": {},
   "outputs": [
    {
     "name": "stdout",
     "output_type": "stream",
     "text": [
      "[1.57079633 1.04719755 0.78539816 0.62831853]\n"
     ]
    }
   ],
   "source": [
    "# Find cosh values for all of the values in arr:\n",
    "import numpy as np\n",
    "ak=np.array([np.pi/2, np.pi/3, np.pi/4, np.pi/5])\n",
    "ak1= np.cosh(ak)\n",
    "print(ak)"
   ]
  },
  {
   "cell_type": "markdown",
   "id": "f1366bc5-86a5-4c21-bfb5-94f9db86fe50",
   "metadata": {},
   "source": [
    "# Finding Angles\n",
    "Finding angles from values of hyperbolic sine, cos, tan. E.g. sinh, cosh and tanh inverse (arcsinh, arccosh, arctanh).\n",
    "\n",
    "Numpy provides ufuncs arcsinh(), arccosh() and arctanh() that produce radian values for corresponding sinh, cosh and tanh values given."
   ]
  },
  {
   "cell_type": "code",
   "execution_count": 3,
   "id": "ba42b3b9-792d-4b7d-8c2f-df398dc0d498",
   "metadata": {},
   "outputs": [
    {
     "name": "stdout",
     "output_type": "stream",
     "text": [
      "0.881373587019543\n"
     ]
    }
   ],
   "source": [
    "import numpy as np\n",
    "ak= np.arcsinh(1.0)\n",
    "print(ak)"
   ]
  },
  {
   "cell_type": "code",
   "execution_count": 4,
   "id": "16d47a98-5755-4e83-ad9a-79217883caec",
   "metadata": {},
   "outputs": [
    {
     "name": "stdout",
     "output_type": "stream",
     "text": [
      "[0.10033535 0.20273255 0.3095196 ]\n"
     ]
    }
   ],
   "source": [
    "# angle of each values in an array.\n",
    "import numpy as np\n",
    "ak= np.array([0.1,0.2,0.3])\n",
    "ak1=np.arctanh(ak)\n",
    "print(ak1)"
   ]
  }
 ],
 "metadata": {
  "kernelspec": {
   "display_name": "Python 3 (ipykernel)",
   "language": "python",
   "name": "python3"
  },
  "language_info": {
   "codemirror_mode": {
    "name": "ipython",
    "version": 3
   },
   "file_extension": ".py",
   "mimetype": "text/x-python",
   "name": "python",
   "nbconvert_exporter": "python",
   "pygments_lexer": "ipython3",
   "version": "3.12.7"
  }
 },
 "nbformat": 4,
 "nbformat_minor": 5
}
