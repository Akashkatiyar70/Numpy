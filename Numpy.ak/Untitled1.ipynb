{
 "cells": [
  {
   "cell_type": "markdown",
   "id": "314d9b0d-26aa-4115-916e-9d023acbc00e",
   "metadata": {},
   "source": [
    "What is a Set\n",
    "A set in mathematics is a collection of unique elements.\n",
    "\n",
    "Sets are used for operations involving frequent intersection, union and difference operations.\n",
    "\n"
   ]
  },
  {
   "cell_type": "markdown",
   "id": "0fa47200-cd38-4269-af8c-508a0c652aa5",
   "metadata": {},
   "source": [
    "We can use NumPy's unique() method to find unique elements from any array. E.g. create a set array, but remember that the set arrays should only be 1-D arrays."
   ]
  },
  {
   "cell_type": "code",
   "execution_count": 1,
   "id": "64b47b7c-b05b-4699-8ad6-a6c8f72a5a6f",
   "metadata": {},
   "outputs": [
    {
     "name": "stdout",
     "output_type": "stream",
     "text": [
      "[1 2 3 4 5 6 7]\n"
     ]
    }
   ],
   "source": [
    "# Convert following array with repeated elements to a set:\n",
    "import numpy as np\n",
    "ak=np.array([1,1,1,2,3,4,5,5,6,7])\n",
    "ak1=np.unique(ak)\n",
    "print(ak1)"
   ]
  },
  {
   "cell_type": "code",
   "execution_count": 3,
   "id": "2fb166eb-2716-425a-ad5b-e62c2a30d674",
   "metadata": {},
   "outputs": [
    {
     "name": "stdout",
     "output_type": "stream",
     "text": [
      "[1 2 3 4 5 6]\n"
     ]
    }
   ],
   "source": [
    "# to find the unique values of 2 D array,we will use union1D() method.\n",
    "import numpy as np\n",
    "ak=np.array([1,2,3,4])\n",
    "ak1=np.array([3,4,5,6])\n",
    "ak2=np.union1d(ak,ak1)\n",
    "print(ak2)"
   ]
  },
  {
   "cell_type": "markdown",
   "id": "20485bf8-5316-45f5-a207-71d939e7a0d9",
   "metadata": {},
   "source": [
    "\n",
    "# Finding Intersection\n",
    "To find only the values that are present in both arrays, use the intersect1d() method."
   ]
  },
  {
   "cell_type": "code",
   "execution_count": 4,
   "id": "1ebeb596-7536-417b-ae06-626e2ce1367d",
   "metadata": {},
   "outputs": [
    {
     "name": "stdout",
     "output_type": "stream",
     "text": [
      "[3 4]\n"
     ]
    }
   ],
   "source": [
    "import numpy as np\n",
    "\n",
    "arr1 = np.array([1, 2, 3, 4])\n",
    "arr2 = np.array([3, 4, 5, 6])\n",
    "\n",
    "newarr = np.intersect1d(arr1, arr2, assume_unique=True)\n",
    "\n",
    "print(newarr)"
   ]
  },
  {
   "cell_type": "markdown",
   "id": "68abeaf0-798a-467a-8db2-101ab9b3d6e6",
   "metadata": {},
   "source": [
    " # Finding Difference\n",
    "To find only the values in the first set that is NOT present in the seconds set, use the setdiff1d() method."
   ]
  },
  {
   "cell_type": "code",
   "execution_count": 5,
   "id": "b9e4bcfa-e257-4027-9f14-9b3331f13c4d",
   "metadata": {},
   "outputs": [
    {
     "name": "stdout",
     "output_type": "stream",
     "text": [
      "[1 2]\n"
     ]
    }
   ],
   "source": [
    "import numpy as np\n",
    "\n",
    "set1 = np.array([1, 2, 3, 4])\n",
    "set2 = np.array([3, 4, 5, 6])\n",
    "\n",
    "newarr = np.setdiff1d(set1, set2, assume_unique=True)\n",
    "\n",
    "print(newarr)"
   ]
  },
  {
   "cell_type": "markdown",
   "id": "df420231-cdaa-435b-b70b-c93f49f60d25",
   "metadata": {},
   "source": [
    "# Finding Symmetric Difference\n",
    "To find only the values that are NOT present in BOTH sets, use the setxor1d() method."
   ]
  },
  {
   "cell_type": "code",
   "execution_count": 6,
   "id": "66a3815d-aca6-48ea-8659-09f2e249c62a",
   "metadata": {},
   "outputs": [
    {
     "name": "stdout",
     "output_type": "stream",
     "text": [
      "[1 2 5 6]\n"
     ]
    }
   ],
   "source": [
    "import numpy as np\n",
    "\n",
    "set1 = np.array([1, 2, 3, 4])\n",
    "set2 = np.array([3, 4, 5, 6])\n",
    "\n",
    "newarr = np.setxor1d(set1, set2, assume_unique=True)\n",
    "\n",
    "print(newarr)"
   ]
  }
 ],
 "metadata": {
  "kernelspec": {
   "display_name": "Python 3 (ipykernel)",
   "language": "python",
   "name": "python3"
  },
  "language_info": {
   "codemirror_mode": {
    "name": "ipython",
    "version": 3
   },
   "file_extension": ".py",
   "mimetype": "text/x-python",
   "name": "python",
   "nbconvert_exporter": "python",
   "pygments_lexer": "ipython3",
   "version": "3.12.7"
  }
 },
 "nbformat": 4,
 "nbformat_minor": 5
}
