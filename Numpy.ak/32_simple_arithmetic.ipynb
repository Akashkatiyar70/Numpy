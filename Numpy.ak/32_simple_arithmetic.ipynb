{
 "cells": [
  {
   "cell_type": "code",
   "execution_count": 1,
   "id": "67d1dd8c-ee5c-4a77-a0d5-a4e176e38732",
   "metadata": {},
   "outputs": [
    {
     "name": "stdout",
     "output_type": "stream",
     "text": [
      "[ 7  9 11 13 15]\n"
     ]
    }
   ],
   "source": [
    "# arithmetic operators: +,-,/,*\n",
    "# by using additional aguments loke, where, dtype nad out.\n",
    "# here now we will use add()\n",
    "\n",
    "import numpy as np\n",
    "ak1=np.array([1,2,3,4,5])\n",
    "ak2=np.array([6,7,8,9,10])\n",
    "ak3=np.add(ak1,ak2)\n",
    "print(ak3)\n"
   ]
  },
  {
   "cell_type": "code",
   "execution_count": 2,
   "id": "e1699025-8db4-48f5-9472-faaaa8518665",
   "metadata": {},
   "outputs": [
    {
     "name": "stdout",
     "output_type": "stream",
     "text": [
      "[-5 -5 -5 -5 -5]\n"
     ]
    }
   ],
   "source": [
    "# subdtract the value\n",
    "import numpy as np\n",
    "ak1=np.array([1,2,3,4,5])\n",
    "ak2=np.array([6,7,8,9,10])\n",
    "ak3=np.subtract(ak1,ak2)\n",
    "print(ak3)"
   ]
  },
  {
   "cell_type": "code",
   "execution_count": 3,
   "id": "53c43fe2-77a1-4121-a4d9-607a73d388b9",
   "metadata": {},
   "outputs": [
    {
     "name": "stdout",
     "output_type": "stream",
     "text": [
      "[ 6 14 24 36 50]\n"
     ]
    }
   ],
   "source": [
    "# mutiplication the value\n",
    "import numpy as np\n",
    "ak1=np.array([1,2,3,4,5])\n",
    "ak2=np.array([6,7,8,9,10])\n",
    "ak3=np.multiply(ak1,ak2)\n",
    "print(ak3)"
   ]
  },
  {
   "cell_type": "code",
   "execution_count": 4,
   "id": "5eca02d4-3262-41fd-ba23-37819a67883d",
   "metadata": {},
   "outputs": [
    {
     "name": "stdout",
     "output_type": "stream",
     "text": [
      "[0.16666667 0.28571429 0.375      0.44444444 0.5       ]\n"
     ]
    }
   ],
   "source": [
    "# divide te value\n",
    "import numpy as np\n",
    "ak1=np.array([1,2,3,4,5])\n",
    "ak2=np.array([6,7,8,9,10])\n",
    "ak3=np.divide(ak1,ak2)\n",
    "print(ak3)"
   ]
  },
  {
   "cell_type": "code",
   "execution_count": 5,
   "id": "762b2c1f-1b97-46c7-b9b5-97c5f4dd3fd1",
   "metadata": {},
   "outputs": [
    {
     "name": "stdout",
     "output_type": "stream",
     "text": [
      "[   1771561   35831808  815730721 -813789696 1124772961]\n"
     ]
    }
   ],
   "source": [
    "# power() function raise the value from the 1st array to the power of the values of the\n",
    "# 2nd array and return the results in a new array\n",
    "import numpy as np\n",
    "ak1=np.array([11,12,13,14,15])\n",
    "ak2=np.array([6,7,8,9,10])\n",
    "ak3=np.power(ak1,ak2)\n",
    "print(ak3)\n"
   ]
  },
  {
   "cell_type": "code",
   "execution_count": 7,
   "id": "b46146a4-863e-4d26-a77b-6574680de169",
   "metadata": {},
   "outputs": [
    {
     "name": "stdout",
     "output_type": "stream",
     "text": [
      "[1 6 3 0 0]\n"
     ]
    }
   ],
   "source": [
    "# reminder- mod() and reminder() function return the reminder of the 1st array \n",
    "# corrosponding to the 2nd array, and result in the new array.\n",
    "\n",
    "import numpy as np\n",
    "ak1=np.array([10,20,30,40,50])\n",
    "ak2=np.array([3,7,9,8,2])\n",
    "ak3=np.mod(ak1,ak2)\n",
    "print(ak3)\n"
   ]
  },
  {
   "cell_type": "code",
   "execution_count": 10,
   "id": "1dc9b839-b921-4a0e-8eb2-399bf7cf5064",
   "metadata": {},
   "outputs": [
    {
     "name": "stdout",
     "output_type": "stream",
     "text": [
      "[1 6 3 0 0]\n"
     ]
    }
   ],
   "source": [
    "# by using reminder\n",
    "import numpy as np\n",
    "ak1=np.array([10,20,30,40,50])\n",
    "ak2=np.array([3,7,9,8,2])\n",
    "ak3=np.remainder(ak1,ak2)\n",
    "print(ak3)"
   ]
  },
  {
   "cell_type": "code",
   "execution_count": 11,
   "id": "e84a3f27-92b8-44f7-8376-b2ee3e5ee779",
   "metadata": {},
   "outputs": [
    {
     "name": "stdout",
     "output_type": "stream",
     "text": [
      "(array([ 3,  2,  3,  5, 25]), array([1, 6, 3, 0, 0]))\n"
     ]
    }
   ],
   "source": [
    "# quotient and mod(remiander)\n",
    "# the divmod() function return both the quotient and mod.\n",
    "import numpy as np\n",
    "ak1=np.array([10,20,30,40,50])\n",
    "ak2=np.array([3,7,9,8,2])\n",
    "ak3=np.divmod(ak1,ak2)\n",
    "print(ak3)"
   ]
  },
  {
   "cell_type": "code",
   "execution_count": 15,
   "id": "d68134ee-d151-4c38-9941-74b272ff45f2",
   "metadata": {},
   "outputs": [
    {
     "name": "stdout",
     "output_type": "stream",
     "text": [
      "[ 1  2  3  4  5 87]\n"
     ]
    }
   ],
   "source": [
    "# absolute and abs()\n",
    "# - do same opertion but here we should use absolute() to avaoid confusion with \n",
    "# python inbuilt function math.abs()\n",
    "\n",
    "import numpy as np\n",
    "ak=np.array([-1,-2,-3,-4,-5,-87])\n",
    "ak1 = np.absolute(ak)\n",
    "print(ak1)"
   ]
  }
 ],
 "metadata": {
  "kernelspec": {
   "display_name": "Python 3 (ipykernel)",
   "language": "python",
   "name": "python3"
  },
  "language_info": {
   "codemirror_mode": {
    "name": "ipython",
    "version": 3
   },
   "file_extension": ".py",
   "mimetype": "text/x-python",
   "name": "python",
   "nbconvert_exporter": "python",
   "pygments_lexer": "ipython3",
   "version": "3.12.7"
  }
 },
 "nbformat": 4,
 "nbformat_minor": 5
}
