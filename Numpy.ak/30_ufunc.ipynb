{
 "cells": [
  {
   "cell_type": "markdown",
   "id": "63aab2d0-03a6-4c79-9e0e-32e713dfbecf",
   "metadata": {},
   "source": [
    "ufuncs ==> stands for \"Universal Functions\" and they are NumPy functions that operate on the ndarray object.\n",
    "\n",
    "ufuncs also take additional arguments:\n",
    "\n",
    "where = boolean array or condition defining where the operations should take place.\n",
    "dtype = defining the return type of elements.\n",
    "out    =output array where the return value should be copied.\n",
    "\n",
    "                           Vectorization\n",
    "                           \n",
    "Converting iterative statements into a vector based operation is called vectorization.\n",
    "It is faster as modern CPUs are optimized for such operations."
   ]
  },
  {
   "cell_type": "code",
   "execution_count": 2,
   "id": "22c0b260-164c-492f-a163-234ff21858a4",
   "metadata": {},
   "outputs": [
    {
     "name": "stdout",
     "output_type": "stream",
     "text": [
      "[5, 7, 9, 11]\n"
     ]
    }
   ],
   "source": [
    "# example withoutufunc, here we will use python in built zip().\n",
    "\n",
    "x= [1,2,3,4]\n",
    "y=[4,5,6,7]\n",
    "\n",
    "z= []\n",
    "for i,j in zip(x,y):\n",
    "    z.append(i+j)\n",
    "print(z)"
   ]
  },
  {
   "cell_type": "code",
   "execution_count": 3,
   "id": "8cdde65e-fb62-42af-8a3b-ed4ece447c15",
   "metadata": {},
   "outputs": [
    {
     "name": "stdout",
     "output_type": "stream",
     "text": [
      "[ 6  8 10 12]\n"
     ]
    }
   ],
   "source": [
    "# with ufunc,we will now use add() function\n",
    "import numpy as np\n",
    "x=[1,2,3,4]\n",
    "y=[5,6,7,8]\n",
    "z=np.add(x,y)\n",
    "print(z)"
   ]
  }
 ],
 "metadata": {
  "kernelspec": {
   "display_name": "Python 3 (ipykernel)",
   "language": "python",
   "name": "python3"
  },
  "language_info": {
   "codemirror_mode": {
    "name": "ipython",
    "version": 3
   },
   "file_extension": ".py",
   "mimetype": "text/x-python",
   "name": "python",
   "nbconvert_exporter": "python",
   "pygments_lexer": "ipython3",
   "version": "3.12.7"
  }
 },
 "nbformat": 4,
 "nbformat_minor": 5
}
