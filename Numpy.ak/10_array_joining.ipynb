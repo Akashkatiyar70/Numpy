{
 "cells": [
  {
   "cell_type": "code",
   "execution_count": 4,
   "id": "7f74fea8-fc81-4fd3-9eb8-65405588ddef",
   "metadata": {},
   "outputs": [
    {
     "name": "stdout",
     "output_type": "stream",
     "text": [
      "[1 2 3 4 5 6]\n",
      "[4 5 6 1 2 3]\n"
     ]
    }
   ],
   "source": [
    "# Joining the numpy array - here for this we will pass concatenate()\n",
    "\n",
    "import numpy  as np\n",
    "ak = np.array([1,2,3])\n",
    "ak1 =np.array([4,5,6])\n",
    "ak3 = np.concatenate((ak1,ak))\n",
    "ak2 = np.concatenate((ak,ak1))\n",
    "print(ak2)\n",
    "print(ak3)"
   ]
  },
  {
   "cell_type": "code",
   "execution_count": 6,
   "id": "21024bee-0630-4819-8097-cbf0625afa2e",
   "metadata": {},
   "outputs": [
    {
     "name": "stdout",
     "output_type": "stream",
     "text": [
      "[[1 2 5 6]\n",
      " [3 4 7 8]]\n"
     ]
    }
   ],
   "source": [
    "# Joining of 2-D rray along with rows(axis = 1)\n",
    "import numpy as np\n",
    "ak = np.array([[1,2],[3,4]])\n",
    "ak1 = np.array([[5,6],[7,8]])\n",
    "ak3 = np.concatenate((ak,ak1),axis=1)\n",
    "print(ak3)"
   ]
  },
  {
   "cell_type": "code",
   "execution_count": 7,
   "id": "d107f54c-3b0a-4df8-9104-b22d7b9f93c4",
   "metadata": {},
   "outputs": [
    {
     "name": "stdout",
     "output_type": "stream",
     "text": [
      "[[1 4]\n",
      " [2 5]\n",
      " [3 6]]\n"
     ]
    }
   ],
   "source": [
    "# Joining array using the stack function:\n",
    "import numpy as np\n",
    "ak = np.array([1,2,3])\n",
    "ak1 = np.array([4,5,6])\n",
    "ak3 = np.stack((ak,ak1),axis=1)\n",
    "print(ak3)"
   ]
  },
  {
   "cell_type": "code",
   "execution_count": 9,
   "id": "b0c55dbc-d065-4347-ad6a-b4109c1e7000",
   "metadata": {},
   "outputs": [
    {
     "name": "stdout",
     "output_type": "stream",
     "text": [
      "[1 2 3 4 5 6]\n"
     ]
    }
   ],
   "source": [
    "# Stacking along with rows: hstack()\n",
    "import numpy as np\n",
    "ak = np.array([1,2,3])\n",
    "ak1 = np.array([4,5,6])\n",
    "ak3 = np.hstack((ak,ak1))\n",
    "print(ak3)"
   ]
  },
  {
   "cell_type": "code",
   "execution_count": 10,
   "id": "cefcd448-8bdf-4100-b01c-07309c76afb3",
   "metadata": {},
   "outputs": [
    {
     "name": "stdout",
     "output_type": "stream",
     "text": [
      "[[1 2 3]\n",
      " [4 5 6]]\n"
     ]
    }
   ],
   "source": [
    "# Stacking along with column\n",
    "import numpy as np\n",
    "ak = np.array([1,2,3])\n",
    "ak1 = np.array([4,5,6])\n",
    "ak3 = np.vstack((ak,ak1))\n",
    "print(ak3)"
   ]
  },
  {
   "cell_type": "code",
   "execution_count": 12,
   "id": "ae8cc487-8dc5-4d2d-b946-c414b3fe3e22",
   "metadata": {},
   "outputs": [
    {
     "name": "stdout",
     "output_type": "stream",
     "text": [
      "[[[1 4]\n",
      "  [2 5]\n",
      "  [3 6]]]\n"
     ]
    }
   ],
   "source": [
    "# stacking along with height(depth)\n",
    "import numpy as np\n",
    "ak = np.array([1,2,3])\n",
    "ak1 = np.array([4,5,6])\n",
    "ak3 = np.dstack((ak,ak1))\n",
    "print(ak3)"
   ]
  }
 ],
 "metadata": {
  "kernelspec": {
   "display_name": "Python 3 (ipykernel)",
   "language": "python",
   "name": "python3"
  },
  "language_info": {
   "codemirror_mode": {
    "name": "ipython",
    "version": 3
   },
   "file_extension": ".py",
   "mimetype": "text/x-python",
   "name": "python",
   "nbconvert_exporter": "python",
   "pygments_lexer": "ipython3",
   "version": "3.12.7"
  }
 },
 "nbformat": 4,
 "nbformat_minor": 5
}
