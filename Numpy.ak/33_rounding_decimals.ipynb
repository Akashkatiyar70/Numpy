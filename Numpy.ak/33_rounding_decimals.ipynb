{
 "cells": [
  {
   "cell_type": "code",
   "execution_count": 1,
   "id": "ba2c0d72-7306-494b-a033-f2e8088a670e",
   "metadata": {},
   "outputs": [
    {
     "name": "stdout",
     "output_type": "stream",
     "text": [
      "[-3.  3.]\n"
     ]
    }
   ],
   "source": [
    "# Rounding decimals: there are 5 ways of rounding off the decimals in numpy:\n",
    "# truncation, fix, rounding, floor, ceil.\n",
    "\n",
    "# truncation: trun() and fix()\n",
    "# here we are truncating the below array, these command remove th decimals and return \n",
    "# the float number closest to zro.\n",
    "\n",
    "import numpy as np\n",
    "ak=np.trunc([-3.6545,3.8766])\n",
    "print(ak)\n",
    "\n"
   ]
  },
  {
   "cell_type": "code",
   "execution_count": 2,
   "id": "f786d683-792f-4f95-b473-7eb9d0e73080",
   "metadata": {},
   "outputs": [
    {
     "name": "stdout",
     "output_type": "stream",
     "text": [
      "[-3.  3.]\n"
     ]
    }
   ],
   "source": [
    "# fix() example\n",
    "import numpy as np\n",
    "ak=np.fix([-3.6545,3.8766])\n",
    "print(ak)\n"
   ]
  },
  {
   "cell_type": "code",
   "execution_count": 12,
   "id": "19f5921f-724a-4ae7-8f38-24a4475bbdbc",
   "metadata": {},
   "outputs": [
    {
     "name": "stdout",
     "output_type": "stream",
     "text": [
      "3.62\n"
     ]
    }
   ],
   "source": [
    "# rounding : the around() function increments preceding digit or decimal \n",
    "# by nearest to 1: if n>5 =1 or n<5 =0.\n",
    "\n",
    "import numpy as np\n",
    "ak=np.around(3.6155,2)\n",
    "print(ak)\n"
   ]
  },
  {
   "cell_type": "code",
   "execution_count": 13,
   "id": "2c21bd43-c700-447c-ad2c-eacb382b2ab8",
   "metadata": {},
   "outputs": [
    {
     "name": "stdout",
     "output_type": "stream",
     "text": [
      "[-4.  3.]\n"
     ]
    }
   ],
   "source": [
    "# floor() - roundoff decimals to the lower integer.\n",
    "import numpy as np\n",
    "ak=np.floor([-3.6545,3.8766])\n",
    "print(ak)\n"
   ]
  },
  {
   "cell_type": "code",
   "execution_count": 14,
   "id": "6c954c8d-0bc2-4cc0-8db7-fc922d185e84",
   "metadata": {},
   "outputs": [
    {
     "name": "stdout",
     "output_type": "stream",
     "text": [
      "[-3.  4.]\n"
     ]
    }
   ],
   "source": [
    "# ceil() - round off decimals to the upper integer.\n",
    "import numpy as np\n",
    "ak=np.ceil([-3.6545,3.8766])\n",
    "print(ak)\n"
   ]
  }
 ],
 "metadata": {
  "kernelspec": {
   "display_name": "Python 3 (ipykernel)",
   "language": "python",
   "name": "python3"
  },
  "language_info": {
   "codemirror_mode": {
    "name": "ipython",
    "version": 3
   },
   "file_extension": ".py",
   "mimetype": "text/x-python",
   "name": "python",
   "nbconvert_exporter": "python",
   "pygments_lexer": "ipython3",
   "version": "3.12.7"
  }
 },
 "nbformat": 4,
 "nbformat_minor": 5
}
