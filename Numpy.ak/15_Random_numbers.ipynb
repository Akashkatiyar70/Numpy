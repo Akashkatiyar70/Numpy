{
 "cells": [
  {
   "cell_type": "code",
   "execution_count": 4,
   "id": "46ca7291-0b25-44b1-8e32-b84bbf62dcf7",
   "metadata": {},
   "outputs": [
    {
     "name": "stdout",
     "output_type": "stream",
     "text": [
      "56\n"
     ]
    }
   ],
   "source": [
    "# Randam meaning - something that cannot be predicted logically.\n",
    "# Now we will generate a random number from 0 to 100\n",
    "\n",
    "\n",
    "# import numpy as np\n",
    "from numpy import random\n",
    "ak = random.randint(100)\n",
    "print(ak)"
   ]
  },
  {
   "cell_type": "code",
   "execution_count": 6,
   "id": "2514c43f-0c7e-4578-a41d-558d61cd0a11",
   "metadata": {},
   "outputs": [
    {
     "name": "stdout",
     "output_type": "stream",
     "text": [
      "0.08758345052633865\n"
     ]
    }
   ],
   "source": [
    "# you can also generate float() via rand() from 0 to 1\n",
    "\n",
    "from numpy import random\n",
    "ak = random.rand()\n",
    "print(ak)\n"
   ]
  },
  {
   "cell_type": "code",
   "execution_count": 10,
   "id": "f74c07e6-5c93-4746-9695-df05f8e1b5b8",
   "metadata": {},
   "outputs": [
    {
     "name": "stdout",
     "output_type": "stream",
     "text": [
      "[82 92 48 73 89]\n"
     ]
    }
   ],
   "source": [
    "# you can also generate random Array.\n",
    "# will will generate a 1-D array containing 5 random int from 0 to 100.\n",
    "\n",
    "from numpy import random\n",
    "ak = random.randint(100, size=(5))\n",
    "print(ak)"
   ]
  },
  {
   "cell_type": "code",
   "execution_count": 15,
   "id": "594411a3-673d-4a70-b265-92a732141544",
   "metadata": {},
   "outputs": [
    {
     "name": "stdout",
     "output_type": "stream",
     "text": [
      "[[98 69 15 75 72]\n",
      " [20 52 95 22 32]\n",
      " [30 87 54 77 92]]\n"
     ]
    }
   ],
   "source": [
    "# you can also generate random Array.\n",
    "# will will generate a 2-D array with 3 rows,each row containing 5 random int from 0 to 100.\n",
    "\n",
    "from numpy import random\n",
    "ak = random.randint(100, size=(3,5))\n",
    "print(ak)"
   ]
  },
  {
   "cell_type": "code",
   "execution_count": 16,
   "id": "9a016540-1e14-4ccf-a5f7-bea3ed86e880",
   "metadata": {},
   "outputs": [
    {
     "name": "stdout",
     "output_type": "stream",
     "text": [
      "[0.4977891  0.14374126 0.47407705 0.81775588 0.95679873]\n"
     ]
    }
   ],
   "source": [
    "# you can also generate random Array.\n",
    "# will will generate a 1-D array containing 5 random float.\n",
    "\n",
    "from numpy import random\n",
    "ak = random.rand(5)\n",
    "print(ak)"
   ]
  },
  {
   "cell_type": "code",
   "execution_count": 18,
   "id": "e6ae7d0e-44a9-48cd-9b1a-666a87e2dca1",
   "metadata": {},
   "outputs": [
    {
     "name": "stdout",
     "output_type": "stream",
     "text": [
      "[[0.1271468  0.82897979 0.39554157 0.15734882 0.75962246]\n",
      " [0.26638577 0.01087338 0.65789955 0.37718184 0.87391814]\n",
      " [0.32508741 0.63244504 0.00128965 0.09232296 0.7641127 ]]\n"
     ]
    }
   ],
   "source": [
    "# you can also generate random Array.\n",
    "# will will generate a 2-D array with 3 rows,each containing 5 random float.\n",
    "\n",
    "from numpy import random\n",
    "ak = random.rand(3,5)\n",
    "print(ak)"
   ]
  },
  {
   "cell_type": "code",
   "execution_count": 45,
   "id": "040cbf25-2713-48dc-a04d-d5c9dc5ca68b",
   "metadata": {},
   "outputs": [
    {
     "name": "stdout",
     "output_type": "stream",
     "text": [
      "2\n"
     ]
    }
   ],
   "source": [
    "# You can also generate random numbers from an array choice()\n",
    "from numpy import random\n",
    "ak = random.choice([2,4,6,8,7,9,4,2,1,3])\n",
    "print(ak)\n"
   ]
  },
  {
   "cell_type": "code",
   "execution_count": 49,
   "id": "b0a0e812-a38c-4639-9fb8-64889242806b",
   "metadata": {},
   "outputs": [
    {
     "name": "stdout",
     "output_type": "stream",
     "text": [
      "[[2 9 8 1 1]\n",
      " [9 4 7 6 2]\n",
      " [8 4 6 3 9]]\n"
     ]
    }
   ],
   "source": [
    "# You can also generate random numbers from an 2-D array choice()\n",
    "from numpy import random\n",
    "ak = random.choice([2,4,6,8,7,9,4,2,1,3],size=(3,5))\n",
    "print(ak)"
   ]
  }
 ],
 "metadata": {
  "kernelspec": {
   "display_name": "Python 3 (ipykernel)",
   "language": "python",
   "name": "python3"
  },
  "language_info": {
   "codemirror_mode": {
    "name": "ipython",
    "version": 3
   },
   "file_extension": ".py",
   "mimetype": "text/x-python",
   "name": "python",
   "nbconvert_exporter": "python",
   "pygments_lexer": "ipython3",
   "version": "3.12.7"
  }
 },
 "nbformat": 4,
 "nbformat_minor": 5
}
