{
 "cells": [
  {
   "cell_type": "code",
   "execution_count": 1,
   "id": "fdd1968a-ce41-44a8-b986-dc96ef243364",
   "metadata": {},
   "outputs": [
    {
     "name": "stdout",
     "output_type": "stream",
     "text": [
      "[0 1 2 3]\n"
     ]
    }
   ],
   "source": [
    "#Sort() the numpy ndarray object has a function which is called sort(),\n",
    "# and this will sort a specified array.\n",
    "\n",
    "import  numpy as np\n",
    "ak =np.array([3,2,0,1])\n",
    "print(np.sort(ak))"
   ]
  },
  {
   "cell_type": "code",
   "execution_count": 2,
   "id": "7c85ac8c-8b10-471a-985a-29a9008d16d4",
   "metadata": {},
   "outputs": [
    {
     "name": "stdout",
     "output_type": "stream",
     "text": [
      "['apple' 'banana' 'cheery']\n"
     ]
    }
   ],
   "source": [
    "# sort the array alphabetically\n",
    "import numpy as np\n",
    "ak = np.array(['banana','cheery','apple'])\n",
    "print(np.sort(ak))"
   ]
  },
  {
   "cell_type": "code",
   "execution_count": 3,
   "id": "d6968854-798d-4eef-b8b7-2f29bdde676f",
   "metadata": {},
   "outputs": [
    {
     "name": "stdout",
     "output_type": "stream",
     "text": [
      "[False  True  True]\n"
     ]
    }
   ],
   "source": [
    "# sort the boolean array:\n",
    "import numpy as np\n",
    "ak = np.array([True,False,True])\n",
    "print(np.sort(ak))"
   ]
  },
  {
   "cell_type": "code",
   "execution_count": 4,
   "id": "3847a025-463a-4814-a2a5-d3727af561c7",
   "metadata": {},
   "outputs": [
    {
     "name": "stdout",
     "output_type": "stream",
     "text": [
      "[[2 3 4]\n",
      " [0 1 5]]\n"
     ]
    }
   ],
   "source": [
    "# sorting the 2-D\n",
    "import numpy as np\n",
    "ak = np.array([[3,2,4],[5,0,1]])\n",
    "print(np.sort(ak))"
   ]
  }
 ],
 "metadata": {
  "kernelspec": {
   "display_name": "Python 3 (ipykernel)",
   "language": "python",
   "name": "python3"
  },
  "language_info": {
   "codemirror_mode": {
    "name": "ipython",
    "version": 3
   },
   "file_extension": ".py",
   "mimetype": "text/x-python",
   "name": "python",
   "nbconvert_exporter": "python",
   "pygments_lexer": "ipython3",
   "version": "3.12.7"
  }
 },
 "nbformat": 4,
 "nbformat_minor": 5
}
