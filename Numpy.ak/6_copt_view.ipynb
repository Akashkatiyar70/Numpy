{
 "cells": [
  {
   "cell_type": "code",
   "execution_count": 4,
   "id": "ec261c83-3beb-4784-9d51-61d9eec51810",
   "metadata": {},
   "outputs": [
    {
     "name": "stdout",
     "output_type": "stream",
     "text": [
      "[1 2 3 4 5]\n",
      "[42  2  3  4  5]\n"
     ]
    }
   ],
   "source": [
    "#difference between numpy array copy and view\n",
    "# we will makw the copy,change in origenal array, and display both.\n",
    "import numpy as np\n",
    "ak=np.array([1,2,3,4,5])\n",
    "ak1=ak.copy()\n",
    "ak1[0]=42\n",
    "print(ak)\n",
    "print(ak1)"
   ]
  },
  {
   "cell_type": "code",
   "execution_count": 3,
   "id": "f9b3411d-3a2e-47ac-96a9-14aebc2ad400",
   "metadata": {},
   "outputs": [
    {
     "name": "stdout",
     "output_type": "stream",
     "text": [
      "[42  2  3  4  5]\n",
      "[42  2  3  4  5]\n"
     ]
    }
   ],
   "source": [
    "#Now wewill make a view, change original,display both\n",
    "import numpy as np\n",
    "ak=np.array([1,2,3,4,5])\n",
    "ak1=ak.view()\n",
    "ak[0]=42\n",
    "print(ak)\n",
    "print(ak1)\n"
   ]
  }
 ],
 "metadata": {
  "kernelspec": {
   "display_name": "Python 3 (ipykernel)",
   "language": "python",
   "name": "python3"
  },
  "language_info": {
   "codemirror_mode": {
    "name": "ipython",
    "version": 3
   },
   "file_extension": ".py",
   "mimetype": "text/x-python",
   "name": "python",
   "nbconvert_exporter": "python",
   "pygments_lexer": "ipython3",
   "version": "3.12.7"
  }
 },
 "nbformat": 4,
 "nbformat_minor": 5
}
