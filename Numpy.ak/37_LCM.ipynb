{
 "cells": [
  {
   "cell_type": "code",
   "execution_count": 1,
   "id": "c14e0914-144b-44ba-befd-574b75421796",
   "metadata": {},
   "outputs": [
    {
     "name": "stdout",
     "output_type": "stream",
     "text": [
      "12\n"
     ]
    }
   ],
   "source": [
    "# finding LCM(Lowest Comman Multiple)\n",
    "# here we will find the Lcm of the 2 numbers:\n",
    "\n",
    "import numpy as np\n",
    "ak=4\n",
    "ak1=6\n",
    "ak2=np.lcm(ak,ak1)\n",
    "print(ak2)"
   ]
  },
  {
   "cell_type": "code",
   "execution_count": 3,
   "id": "06c65650-b953-48bd-b118-c29357bbec93",
   "metadata": {},
   "outputs": [
    {
     "name": "stdout",
     "output_type": "stream",
     "text": [
      "18\n"
     ]
    }
   ],
   "source": [
    "# finding the lcm in array\n",
    "import numpy as np\n",
    "ak1= np.array([3,6,9])\n",
    "ak=np.lcm.reduce(ak1)\n",
    "# the reduce() method will use the ufunc, in this case the lcm() function on each element\n",
    "# and it will reduce the array by 1 dimension.\n",
    "print(ak)"
   ]
  },
  {
   "cell_type": "code",
   "execution_count": 6,
   "id": "cffabb5d-fff2-4f7b-8b52-41b0bed2953e",
   "metadata": {},
   "outputs": [
    {
     "name": "stdout",
     "output_type": "stream",
     "text": [
      "2520\n"
     ]
    }
   ],
   "source": [
    "# we will find the lcm of all of an array where the array contains all integers from 1 to 10.\n",
    "import numpy as np\n",
    "ak = np.arange(1,11)\n",
    "ak1= np.lcm.reduce(ak)\n",
    "print(ak1)"
   ]
  }
 ],
 "metadata": {
  "kernelspec": {
   "display_name": "Python 3 (ipykernel)",
   "language": "python",
   "name": "python3"
  },
  "language_info": {
   "codemirror_mode": {
    "name": "ipython",
    "version": 3
   },
   "file_extension": ".py",
   "mimetype": "text/x-python",
   "name": "python",
   "nbconvert_exporter": "python",
   "pygments_lexer": "ipython3",
   "version": "3.12.7"
  }
 },
 "nbformat": 4,
 "nbformat_minor": 5
}
