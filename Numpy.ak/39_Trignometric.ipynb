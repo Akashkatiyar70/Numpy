{
 "cells": [
  {
   "cell_type": "markdown",
   "id": "0be80019-5765-47bc-8954-4a2564b787f9",
   "metadata": {},
   "source": [
    "# Trignometric function : \n",
    "numpy provides the ufuns like sin(),cos() and tan() that takes value in radians and produce the corresponding sin, cos, tan values.\n",
    "\n",
    "// here now we will find sin value of pi/2.\n",
    "\n",
    "\n",
    "\n"
   ]
  },
  {
   "cell_type": "code",
   "execution_count": 1,
   "id": "5798f252-3e0f-4ac6-a667-34a42c56ec08",
   "metadata": {},
   "outputs": [
    {
     "name": "stdout",
     "output_type": "stream",
     "text": [
      "1.0\n"
     ]
    }
   ],
   "source": [
    "import numpy as np\n",
    "ak=np.sin(np.pi/2)\n",
    "print(ak)"
   ]
  },
  {
   "cell_type": "code",
   "execution_count": 4,
   "id": "e6d75bac-b72f-4309-8e36-028c83087648",
   "metadata": {},
   "outputs": [
    {
     "name": "stdout",
     "output_type": "stream",
     "text": [
      "[1.         0.8660254  0.70710678 0.58778525]\n"
     ]
    }
   ],
   "source": [
    "# we will now find the sin value of an array\n",
    "\n",
    "import numpy as np\n",
    "ak=np.array([np.pi/2,np.pi/3,np.pi/4,np.pi/5])\n",
    "ak1=np.sin(ak)\n",
    "print(ak1)"
   ]
  },
  {
   "cell_type": "code",
   "execution_count": 2,
   "id": "4a155731-92d4-4bdf-97ab-db82c88c17df",
   "metadata": {},
   "outputs": [
    {
     "name": "stdout",
     "output_type": "stream",
     "text": [
      "[1.57079633 3.14159265 4.71238898 6.28318531]\n"
     ]
    }
   ],
   "source": [
    "# convert Degree into radians: by default all of the trignomertics function tales radiuns as parameter\n",
    "#note: radians values are pi/180*.\n",
    "\n",
    "# here we will convert all the array values to radians:\n",
    "import numpy as np\n",
    "ak= np.array([90,180,270,360])\n",
    "ak1 = np.deg2rad(ak)\n",
    "print(ak1)"
   ]
  },
  {
   "cell_type": "code",
   "execution_count": 3,
   "id": "a2891488-7acc-414d-a85a-feb8ee6b3685",
   "metadata": {},
   "outputs": [
    {
     "name": "stdout",
     "output_type": "stream",
     "text": [
      "[ 90. 180. 270. 360.]\n"
     ]
    }
   ],
   "source": [
    "# Here we will convert: radians into degree\n",
    "\n",
    "import numpy as np\n",
    "ak = np.array([np.pi/2,np.pi,1.5*np.pi,2*np.pi])\n",
    "ak1=np.rad2deg(ak)\n",
    "print(ak1)"
   ]
  },
  {
   "cell_type": "markdown",
   "id": "e2d8745b-2d57-4a82-99bf-3d35ac9cfe87",
   "metadata": {},
   "source": [
    "# Find Angle:\n",
    "arcsin(), arccos(), arctan() that takes values in radians and produc the corresing sin,cos ,tan values."
   ]
  },
  {
   "cell_type": "code",
   "execution_count": 4,
   "id": "195fe88d-69ba-4620-ad8a-b8b15d162a25",
   "metadata": {},
   "outputs": [
    {
     "name": "stdout",
     "output_type": "stream",
     "text": [
      "1.5707963267948966\n"
     ]
    }
   ],
   "source": [
    "# we will find the angle of 1.0\n",
    "import numpy as np\n",
    "ak=np.arcsin(1.0)\n",
    "print(ak)"
   ]
  },
  {
   "cell_type": "code",
   "execution_count": 5,
   "id": "2e919c56-67be-4bd0-8601-58d3726794fa",
   "metadata": {},
   "outputs": [
    {
     "name": "stdout",
     "output_type": "stream",
     "text": [
      "[ 1.57079633 -1.57079633  0.10016742]\n"
     ]
    }
   ],
   "source": [
    "# angles of each values in an array:\n",
    "import numpy as np\n",
    "ak=np.array([1,-1,0.1])\n",
    "ak1=np.arcsin(ak)\n",
    "print(ak1)"
   ]
  },
  {
   "cell_type": "markdown",
   "id": "65fb7859-a10d-4942-bedd-c92424ac4e2a",
   "metadata": {},
   "source": [
    "here we can also find the hypotenous using the pythagores theorem in numpy.\n",
    "# hypot():\n",
    "function that takes the base and perpendicular values and produces\n",
    "hypotenues based on pythagoras theorem."
   ]
  },
  {
   "cell_type": "code",
   "execution_count": 6,
   "id": "e784d4da-9e35-4a16-94fb-088e97968976",
   "metadata": {},
   "outputs": [
    {
     "name": "stdout",
     "output_type": "stream",
     "text": [
      "5.0\n"
     ]
    }
   ],
   "source": [
    "# here we will find the hypot for 4 base 3 perpendicular.\n",
    "import numpy as np\n",
    "base=3\n",
    "perp=4\n",
    "ak=np.hypot(base,perp)\n",
    "print(ak)"
   ]
  }
 ],
 "metadata": {
  "kernelspec": {
   "display_name": "Python 3 (ipykernel)",
   "language": "python",
   "name": "python3"
  },
  "language_info": {
   "codemirror_mode": {
    "name": "ipython",
    "version": 3
   },
   "file_extension": ".py",
   "mimetype": "text/x-python",
   "name": "python",
   "nbconvert_exporter": "python",
   "pygments_lexer": "ipython3",
   "version": "3.12.7"
  }
 },
 "nbformat": 4,
 "nbformat_minor": 5
}
