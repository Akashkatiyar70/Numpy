{
 "cells": [
  {
   "cell_type": "code",
   "execution_count": 3,
   "id": "881aa50e-a344-4e54-aca5-7e8eb64ca7ba",
   "metadata": {},
   "outputs": [
    {
     "name": "stdout",
     "output_type": "stream",
     "text": [
      "[7 7 5 3 5 7 5 7 7 7 5 7 7 7 7 7 5 3 7 7 5 5 7 5 7 5 7 3 7 3 5 7 7 5 7 3 7\n",
      " 7 7 7 7 5 7 5 7 5 7 7 7 3 5 3 7 7 7 7 7 5 3 7 5 7 7 5 7 7 5 3 3 7 7 5 7 7\n",
      " 7 7 7 7 7 7 7 7 5 7 7 7 7 5 3 7 3 7 5 5 7 7 7 7 7 3]\n"
     ]
    }
   ],
   "source": [
    "# data distribution a list of all possible value and how often each vlue occor.\n",
    "\n",
    "# such lists are important when working with statistics and data science.\n",
    "\n",
    "#Random distribution : probability function.\n",
    "\n",
    "# now we will generate 1-D with 100 values where  each value has to be 3,5,6,9\n",
    "\n",
    "# the probabilty for the value 3 is set to be 0.1\n",
    "# the probabilty for the value 5 is set to be 0.3\n",
    "# the probabilty for the value 7 is set to be 0.6\n",
    "# the probabilty for the value 9 is set to be 0.0\n",
    "\n",
    "from numpy import random\n",
    "ak = random.choice([3,5,7,9], p=[0.1,0.3,0.6,0.0],size=(100))\n",
    "print(ak)"
   ]
  },
  {
   "cell_type": "code",
   "execution_count": 4,
   "id": "53ee4d15-a710-4ca4-91de-9e849ce4896d",
   "metadata": {},
   "outputs": [
    {
     "name": "stdout",
     "output_type": "stream",
     "text": [
      "[[7 7 7 5 7]\n",
      " [5 7 3 7 5]\n",
      " [7 5 5 7 7]]\n"
     ]
    }
   ],
   "source": [
    "# now we will return 2-D with 3 rows each containing 5 values:\n",
    "from numpy import random\n",
    "ak = random.choice([3,5,7,9], p=[0.1,0.3,0.6,0.0],size=(3,5))\n",
    "print(ak)\n"
   ]
  }
 ],
 "metadata": {
  "kernelspec": {
   "display_name": "Python 3 (ipykernel)",
   "language": "python",
   "name": "python3"
  },
  "language_info": {
   "codemirror_mode": {
    "name": "ipython",
    "version": 3
   },
   "file_extension": ".py",
   "mimetype": "text/x-python",
   "name": "python",
   "nbconvert_exporter": "python",
   "pygments_lexer": "ipython3",
   "version": "3.12.7"
  }
 },
 "nbformat": 4,
 "nbformat_minor": 5
}
