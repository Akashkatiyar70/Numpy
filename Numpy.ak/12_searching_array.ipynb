{
 "cells": [
  {
   "cell_type": "code",
   "execution_count": 1,
   "id": "d3cf768e-e79b-4072-a680-77baa5bc7f4a",
   "metadata": {},
   "outputs": [
    {
     "name": "stdout",
     "output_type": "stream",
     "text": [
      "(array([3, 5, 6], dtype=int64),)\n"
     ]
    }
   ],
   "source": [
    "# searching array - you can search an array for a certain value and return the indexes that get the match. by using where()\n",
    "\n",
    "import numpy as np\n",
    "ak = np.array([1,2,3,4,5,4,4])\n",
    "ak1 = np.where(ak==4)\n",
    "print(ak1)"
   ]
  },
  {
   "cell_type": "code",
   "execution_count": 3,
   "id": "8f4c5883-4b53-4ff4-b1b1-1fa1c5deed35",
   "metadata": {},
   "outputs": [
    {
     "name": "stdout",
     "output_type": "stream",
     "text": [
      "(array([1, 3, 5, 7], dtype=int64),)\n"
     ]
    }
   ],
   "source": [
    "# Now we will find the indexes where the values are even:\n",
    "import numpy as np\n",
    "ak = np.array([1,2,3,4,5,6,7,8])\n",
    "ak1 = np.where(ak%2 == 0)\n",
    "print(ak1)"
   ]
  },
  {
   "cell_type": "code",
   "execution_count": 4,
   "id": "a45c781b-97e1-45c1-8188-8a7e5846eed8",
   "metadata": {},
   "outputs": [
    {
     "name": "stdout",
     "output_type": "stream",
     "text": [
      "(array([0, 2, 4, 6], dtype=int64),)\n"
     ]
    }
   ],
   "source": [
    "#Now we will find  the indexes where the values are odd:\n",
    "import numpy as np\n",
    "ak = np.array([1,2,3,4,5,6,7,8])\n",
    "ak1 = np.where(ak%2 == 1)\n",
    "print(ak1)"
   ]
  },
  {
   "cell_type": "code",
   "execution_count": 5,
   "id": "ee7962ac-f370-496b-be5d-c75e49f4e2c4",
   "metadata": {},
   "outputs": [
    {
     "name": "stdout",
     "output_type": "stream",
     "text": [
      "1\n"
     ]
    }
   ],
   "source": [
    "# Searchsorted() - perform binary search in array.\n",
    "# we will now finf the index wher the value 7 should be insterted.\n",
    "\n",
    "import numpy as np\n",
    "ak = np.array([6,7,8,9])\n",
    "ak1 = np.searchsorted(ak,7)\n",
    "print(ak1)"
   ]
  },
  {
   "cell_type": "code",
   "execution_count": 6,
   "id": "85652990-9469-4a6d-a999-bae77a872e72",
   "metadata": {},
   "outputs": [
    {
     "name": "stdout",
     "output_type": "stream",
     "text": [
      "2\n"
     ]
    }
   ],
   "source": [
    "# now we will search from right side\n",
    "import numpy as np\n",
    "ak = np.array([6,7,8,9])\n",
    "ak1 = np.searchsorted(ak,7, side='right')\n",
    "print(ak1)"
   ]
  },
  {
   "cell_type": "code",
   "execution_count": 7,
   "id": "5b0ab351-79f9-48dc-8353-d4577cafa5bf",
   "metadata": {},
   "outputs": [
    {
     "name": "stdout",
     "output_type": "stream",
     "text": [
      "[1 2 3]\n"
     ]
    }
   ],
   "source": [
    "# How to search multiple values:\n",
    "import numpy as np\n",
    "ak = np.array([1,3,5,7])\n",
    "ak1 = np.searchsorted(ak,[2,4,6])\n",
    "print(ak1)"
   ]
  }
 ],
 "metadata": {
  "kernelspec": {
   "display_name": "Python 3 (ipykernel)",
   "language": "python",
   "name": "python3"
  },
  "language_info": {
   "codemirror_mode": {
    "name": "ipython",
    "version": 3
   },
   "file_extension": ".py",
   "mimetype": "text/x-python",
   "name": "python",
   "nbconvert_exporter": "python",
   "pygments_lexer": "ipython3",
   "version": "3.12.7"
  }
 },
 "nbformat": 4,
 "nbformat_minor": 5
}
