{
 "cells": [
  {
   "cell_type": "code",
   "execution_count": 2,
   "id": "1216945f-10ef-47eb-a29e-35098b0af113",
   "metadata": {},
   "outputs": [
    {
     "name": "stdout",
     "output_type": "stream",
     "text": [
      "3\n"
     ]
    }
   ],
   "source": [
    "# finding gcd(gretest common denominater), also khow as hcf(higher Comman Facter)\n",
    "\n",
    "# here we will find the HCF of the below 2 numbers:\n",
    "import numpy as np\n",
    "ak1=6\n",
    "ak2=9\n",
    "ak=np.gcd(ak1,ak2)\n",
    "print(ak)\n",
    "\n",
    "# answer will be 2 because that is the highest number and both number can be divided by \n",
    "# (6/3=2 and 9/3=3)"
   ]
  },
  {
   "cell_type": "code",
   "execution_count": 3,
   "id": "b5551e9a-fd6d-429b-b62d-c4737153b1b1",
   "metadata": {},
   "outputs": [
    {
     "name": "stdout",
     "output_type": "stream",
     "text": [
      "4\n"
     ]
    }
   ],
   "source": [
    "# finding the GCD in an array.\n",
    "import numpy as np \n",
    "ak = np.array([20,8,32,16,36])\n",
    "ak1=np.gcd.reduce(ak)\n",
    "print(ak1)"
   ]
  }
 ],
 "metadata": {
  "kernelspec": {
   "display_name": "Python 3 (ipykernel)",
   "language": "python",
   "name": "python3"
  },
  "language_info": {
   "codemirror_mode": {
    "name": "ipython",
    "version": 3
   },
   "file_extension": ".py",
   "mimetype": "text/x-python",
   "name": "python",
   "nbconvert_exporter": "python",
   "pygments_lexer": "ipython3",
   "version": "3.12.7"
  }
 },
 "nbformat": 4,
 "nbformat_minor": 5
}
