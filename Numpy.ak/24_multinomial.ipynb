{
 "cells": [
  {
   "cell_type": "code",
   "execution_count": 4,
   "id": "6bdb060e-6d6c-4d55-b95a-ffe3d049db9d",
   "metadata": {},
   "outputs": [
    {
     "name": "stdout",
     "output_type": "stream",
     "text": [
      "[0 1 0 3 1 1]\n"
     ]
    }
   ],
   "source": [
    "# Multinomial dist: it is a generalization of binomial dist.\n",
    "# parameter- n(number of possibility or outcome),pvals(list of possibility or outcome),size(shape of returned array)\n",
    "# draw out a sample for dice roll\n",
    "\n",
    "from numpy import random\n",
    "ak = random.multinomial(n=6, pvals=[1/6,1/6,1/6,1/6,1/6,1/6])\n",
    "print(ak)\n",
    "\n",
    "# multinominal samples will not produce a single value,\n",
    "# they will produce one value for each pvals"
   ]
  },
  {
   "cell_type": "code",
   "execution_count": null,
   "id": "bc86d799-a3a9-4f0f-8ee1-4e516dcd939d",
   "metadata": {},
   "outputs": [],
   "source": [
    "# visualization\n",
    "\n",
    "from numpy import random\n",
    "import matplotlib."
   ]
  }
 ],
 "metadata": {
  "kernelspec": {
   "display_name": "Python 3 (ipykernel)",
   "language": "python",
   "name": "python3"
  },
  "language_info": {
   "codemirror_mode": {
    "name": "ipython",
    "version": 3
   },
   "file_extension": ".py",
   "mimetype": "text/x-python",
   "name": "python",
   "nbconvert_exporter": "python",
   "pygments_lexer": "ipython3",
   "version": "3.12.7"
  }
 },
 "nbformat": 4,
 "nbformat_minor": 5
}
