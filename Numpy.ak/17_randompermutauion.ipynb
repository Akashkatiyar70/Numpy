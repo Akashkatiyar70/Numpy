{
 "cells": [
  {
   "cell_type": "code",
   "execution_count": 7,
   "id": "0757e423-36e6-4024-b089-f4b23060a1e2",
   "metadata": {},
   "outputs": [
    {
     "name": "stdout",
     "output_type": "stream",
     "text": [
      "[4 2 5 3 1]\n"
     ]
    }
   ],
   "source": [
    "# Permutaion refers to an arrangement of elements like[3,2,1] is permutaion of [1,2,3] and vice versa.\n",
    "\n",
    "# the numpy random module provides 2 methods: shuffle() and permutation().\n",
    "\n",
    "# now we will randomly suffle elements for the below array:\n",
    "\n",
    "# shuffle() method make change to the original array\n",
    "from numpy import random\n",
    "import numpy as np\n",
    "ak = np.array([1,2,3,4,5])\n",
    "random.shuffle(ak)\n",
    "print(ak)"
   ]
  },
  {
   "cell_type": "code",
   "execution_count": 11,
   "id": "0d473b05-a68f-4996-91d1-1629b3e1ba67",
   "metadata": {},
   "outputs": [
    {
     "name": "stdout",
     "output_type": "stream",
     "text": [
      "[1 2 3 4 5]\n"
     ]
    }
   ],
   "source": [
    "# now we will generate a permutation of elements for the below array:\n",
    "from numpy import random\n",
    "import numpy as np\n",
    "ak = np.array([1,2,3,4,5])\n",
    "random.permutation(ak)\n",
    "print(ak)\n"
   ]
  },
  {
   "cell_type": "code",
   "execution_count": 14,
   "id": "774619ea-91f5-4afc-a688-8ed485fdd17c",
   "metadata": {},
   "outputs": [
    {
     "name": "stdout",
     "output_type": "stream",
     "text": [
      "[1 2 5 4 3]\n"
     ]
    }
   ],
   "source": [
    "# now we will generate a permutation of elements for the below array:\n",
    "\n",
    "# The permutation() method leaves the original array unchangeed.\n",
    "from numpy import random\n",
    "import numpy as np\n",
    "ak = np.array([1,2,3,4,5])\n",
    "\n",
    "print(random.permutation(ak))"
   ]
  }
 ],
 "metadata": {
  "kernelspec": {
   "display_name": "Python 3 (ipykernel)",
   "language": "python",
   "name": "python3"
  },
  "language_info": {
   "codemirror_mode": {
    "name": "ipython",
    "version": 3
   },
   "file_extension": ".py",
   "mimetype": "text/x-python",
   "name": "python",
   "nbconvert_exporter": "python",
   "pygments_lexer": "ipython3",
   "version": "3.12.7"
  }
 },
 "nbformat": 4,
 "nbformat_minor": 5
}
