{
 "cells": [
  {
   "cell_type": "code",
   "execution_count": null,
   "id": "b43515c3-31e6-4599-aafa-2892d0e9a998",
   "metadata": {},
   "outputs": [],
   "source": [
    "# difference: use diff() function for finding the difference\n",
    "\n",
    "# example : [1,2,3,4], the discreate difference of this would be [2-1,3-2,4-3] = [1,1,1]\n",
    "# by using diff()\n",
    " "
   ]
  },
  {
   "cell_type": "code",
   "execution_count": 4,
   "id": "8ed25836-db37-4d81-86a4-fa3f6bda0ebb",
   "metadata": {},
   "outputs": [
    {
     "name": "stdout",
     "output_type": "stream",
     "text": [
      "[  5  10 -20]\n"
     ]
    }
   ],
   "source": [
    "import numpy as np\n",
    "ak= np.array([10,15,25,5])\n",
    "ak1= np.diff(ak)\n",
    "print(ak1)\n"
   ]
  }
 ],
 "metadata": {
  "kernelspec": {
   "display_name": "Python 3 (ipykernel)",
   "language": "python",
   "name": "python3"
  },
  "language_info": {
   "codemirror_mode": {
    "name": "ipython",
    "version": 3
   },
   "file_extension": ".py",
   "mimetype": "text/x-python",
   "name": "python",
   "nbconvert_exporter": "python",
   "pygments_lexer": "ipython3",
   "version": "3.12.7"
  }
 },
 "nbformat": 4,
 "nbformat_minor": 5
}
