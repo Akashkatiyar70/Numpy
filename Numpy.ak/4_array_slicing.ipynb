{
 "cells": [
  {
   "cell_type": "code",
   "execution_count": 2,
   "id": "11f1e61c-69c5-4735-b525-70ad53dfa87a",
   "metadata": {},
   "outputs": [
    {
     "name": "stdout",
     "output_type": "stream",
     "text": [
      "[2 3 4 5]\n"
     ]
    }
   ],
   "source": [
    "#slicing array- slicing in python means taking elements from one given index to another index.\n",
    "#[start:end],[start:end:step]\n",
    "\n",
    "\n",
    "# now we will slice sn element from 1 to 5 :\n",
    "\n",
    "import numpy as np\n",
    "ak = np.array([1,2,3,4,5,6,7,8,9])\n",
    "print(ak[1:5])"
   ]
  },
  {
   "cell_type": "code",
   "execution_count": 3,
   "id": "3f777cc8-c18f-4d41-a6d3-93abe65b0539",
   "metadata": {},
   "outputs": [
    {
     "name": "stdout",
     "output_type": "stream",
     "text": [
      "[5 6 7 8 9]\n"
     ]
    }
   ],
   "source": [
    "# now we will slicefrom index 4 to end value:\n",
    "import numpy as np\n",
    "ak= np.array([1,2,3,4,5,6,7,8,9])\n",
    "print(ak[4:])"
   ]
  },
  {
   "cell_type": "code",
   "execution_count": 4,
   "id": "d7218434-6103-4a34-85f7-508d3161d530",
   "metadata": {},
   "outputs": [
    {
     "name": "stdout",
     "output_type": "stream",
     "text": [
      "[1 2 3 4]\n"
     ]
    }
   ],
   "source": [
    "# now we will slice the element from the begining to index 4\n",
    "import numpy as np\n",
    "ak= np.array([1,2,3,4,5,6,7,8,9])\n",
    "print(ak[:4])"
   ]
  },
  {
   "cell_type": "code",
   "execution_count": 7,
   "id": "8b1d4be9-a22d-499b-b3e2-6c90cd206739",
   "metadata": {},
   "outputs": [
    {
     "name": "stdout",
     "output_type": "stream",
     "text": [
      "[4 5 6 7 8]\n",
      "[4 5 6 7 8]\n"
     ]
    }
   ],
   "source": [
    "# negative slicing\n",
    "# inex 3 to end\n",
    "import numpy as np\n",
    "ak= np.array([1,2,3,4,5,6,7,8,9])\n",
    "print(ak[-6:-1])\n",
    "print(ak[3:-1])"
   ]
  },
  {
   "cell_type": "code",
   "execution_count": 12,
   "id": "ebb4b46f-a3e3-4eb9-925b-625d6ad70b64",
   "metadata": {},
   "outputs": [
    {
     "name": "stdout",
     "output_type": "stream",
     "text": [
      "[2 3 4 5]\n",
      "[2 4]\n",
      "[1 3 5 7 9]\n"
     ]
    }
   ],
   "source": [
    "# step you will use step value to determine the step of the slicing\n",
    "# return every other value from 1 to 5\n",
    "import numpy as np\n",
    "ak= np.array([1,2,3,4,5,6,7,8,9])\n",
    "print(ak[1:5])\n",
    "print(ak[1:5:2])\n",
    "# now return every other number from the entire array\n",
    "print(ak[::2])"
   ]
  },
  {
   "cell_type": "code",
   "execution_count": 14,
   "id": "86eed4c3-3ac2-47e5-ac00-5b0cb025db87",
   "metadata": {},
   "outputs": [
    {
     "name": "stdout",
     "output_type": "stream",
     "text": [
      "[7 8 9]\n"
     ]
    }
   ],
   "source": [
    "# skicing 2_D Array print 7,8,9\n",
    "import numpy as np \n",
    "ak =np.array([[1,2,3,4,5],[6,7,8,9,10]])\n",
    "print(ak[1,1:4])"
   ]
  },
  {
   "cell_type": "code",
   "execution_count": 15,
   "id": "410b39e1-9e90-4cad-a65a-6150a07afbd5",
   "metadata": {},
   "outputs": [
    {
     "name": "stdout",
     "output_type": "stream",
     "text": [
      "[3 8]\n"
     ]
    }
   ],
   "source": [
    "# another example\n",
    "import numpy as np\n",
    "ak= np.array([[1,2,3,4,5],[6,7,8,9,10]])\n",
    "print(ak[0:2,2])\n"
   ]
  },
  {
   "cell_type": "code",
   "execution_count": 16,
   "id": "4302a90f-0c24-4b2d-a430-6fe3a8603dbc",
   "metadata": {},
   "outputs": [
    {
     "name": "stdout",
     "output_type": "stream",
     "text": [
      "[[2 3 4]\n",
      " [7 8 9]]\n"
     ]
    }
   ],
   "source": [
    "# another example tough 2-D - print from both, index 1:4\n",
    "import numpy as np\n",
    "ak= np.array([[1,2,3,4,5],[6,7,8,9,10]])\n",
    "print(ak[0:2,1:4])"
   ]
  }
 ],
 "metadata": {
  "kernelspec": {
   "display_name": "Python 3 (ipykernel)",
   "language": "python",
   "name": "python3"
  },
  "language_info": {
   "codemirror_mode": {
    "name": "ipython",
    "version": 3
   },
   "file_extension": ".py",
   "mimetype": "text/x-python",
   "name": "python",
   "nbconvert_exporter": "python",
   "pygments_lexer": "ipython3",
   "version": "3.12.7"
  }
 },
 "nbformat": 4,
 "nbformat_minor": 5
}
