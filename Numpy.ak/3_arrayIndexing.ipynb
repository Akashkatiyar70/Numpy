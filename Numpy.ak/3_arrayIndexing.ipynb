{
 "cells": [
  {
   "cell_type": "code",
   "execution_count": 7,
   "id": "ed876879-b02f-418a-8290-75c5e703461a",
   "metadata": {},
   "outputs": [
    {
     "name": "stdout",
     "output_type": "stream",
     "text": [
      "2\n"
     ]
    }
   ],
   "source": [
    "#1-D Array indexing is the same as accesing an array element.\n",
    "# start with 0,second 1\n",
    "import numpy as np\n",
    "sharad = np.array([1,2,3,4])\n",
    "print(sharad[1])\n"
   ]
  },
  {
   "cell_type": "code",
   "execution_count": 8,
   "id": "0cb25a1c-8364-4238-9ab4-1c150c7cfabe",
   "metadata": {},
   "outputs": [
    {
     "name": "stdout",
     "output_type": "stream",
     "text": [
      "7\n"
     ]
    }
   ],
   "source": [
    "# we get the third and fourth element from adding them\n",
    "import numpy as np\n",
    "sharad = np.array([1,2,3,4,])\n",
    "print(sharad[2] + sharad[3])"
   ]
  },
  {
   "cell_type": "code",
   "execution_count": 12,
   "id": "9fcd8855-40a8-4dfd-ab0e-d460376b5148",
   "metadata": {},
   "outputs": [
    {
     "name": "stdout",
     "output_type": "stream",
     "text": [
      "5th element in the 2nd row 10\n"
     ]
    }
   ],
   "source": [
    "# accessing the 2-D it is like rows and columns.\n",
    "import numpy as np\n",
    "sharad = np.array([[1,2,3,4,5],[6,7,8,9,10]])\n",
    "# print(\"2nd element in the 1st row\",sharad[0,1])\n",
    "print(\"5th element in the 2nd row\",sharad[1,4])"
   ]
  },
  {
   "cell_type": "code",
   "execution_count": 13,
   "id": "471b170b-8be7-4542-acf4-20b9aa5866f9",
   "metadata": {},
   "outputs": [
    {
     "name": "stdout",
     "output_type": "stream",
     "text": [
      "6\n"
     ]
    }
   ],
   "source": [
    "# Accessing the 3-D - same as accessing\n",
    "import numpy as np\n",
    "sharad = np.array([[[1,2,3],[4,5,6,]],[[7,8,9],[10,11,12]]])\n",
    "print(sharad[0,1,2])"
   ]
  }
 ],
 "metadata": {
  "kernelspec": {
   "display_name": "Python 3 (ipykernel)",
   "language": "python",
   "name": "python3"
  },
  "language_info": {
   "codemirror_mode": {
    "name": "ipython",
    "version": 3
   },
   "file_extension": ".py",
   "mimetype": "text/x-python",
   "name": "python",
   "nbconvert_exporter": "python",
   "pygments_lexer": "ipython3",
   "version": "3.12.7"
  }
 },
 "nbformat": 4,
 "nbformat_minor": 5
}
