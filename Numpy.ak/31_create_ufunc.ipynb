{
 "cells": [
  {
   "cell_type": "markdown",
   "id": "8b3f3030-f88c-4539-95ac-96c65890b068",
   "metadata": {},
   "source": [
    "To create your own ufunc, you have to define a function, like you do in normal function in python,\n",
    "then you add it to thenumpy function with frompyfunc() method\n",
    "# arguments of frompyfunc(): function,input,outputs\n"
   ]
  },
  {
   "cell_type": "raw",
   "id": "e954613b-9af4-4b96-80f2-d165025eace2",
   "metadata": {},
   "source": [
    "# create your own ufunc for addition:\n",
    "import numpy as np\n",
    "def myadd(x,y):\n",
    "     return x+y\n",
    "myadd = np.frompyfunc(myadd,2,1)\n",
    "print(myadd([1,2,3,4],[5,6,7,8]))\n"
   ]
  },
  {
   "cell_type": "code",
   "execution_count": 3,
   "id": "542f0429-3b33-4e5a-9f82-66e701710868",
   "metadata": {},
   "outputs": [
    {
     "name": "stdout",
     "output_type": "stream",
     "text": [
      "<class 'numpy.ufunc'>\n",
      "<class 'numpy._ArrayFunctionDispatcher'>\n"
     ]
    }
   ],
   "source": [
    "# checking if this function in ufunc or not:\n",
    "import numpy as np\n",
    "print(type(np.add))\n",
    "\n",
    "# concatenate()\n",
    "import numpy as np\n",
    "print(type(np.concatenate))"
   ]
  },
  {
   "cell_type": "code",
   "execution_count": 5,
   "id": "48aeb5ba-e442-4cd8-b94c-0015a07db9ff",
   "metadata": {},
   "outputs": [
    {
     "ename": "AttributeError",
     "evalue": "module 'numpy' has no attribute 'asjahshsh'",
     "output_type": "error",
     "traceback": [
      "\u001b[1;31m---------------------------------------------------------------------------\u001b[0m",
      "\u001b[1;31mAttributeError\u001b[0m                            Traceback (most recent call last)",
      "Cell \u001b[1;32mIn[5], line 3\u001b[0m\n\u001b[0;32m      1\u001b[0m \u001b[38;5;66;03m# what if ufunc does not exits:\u001b[39;00m\n\u001b[0;32m      2\u001b[0m \u001b[38;5;28;01mimport\u001b[39;00m \u001b[38;5;21;01mnumpy\u001b[39;00m \u001b[38;5;28;01mas\u001b[39;00m \u001b[38;5;21;01mnp\u001b[39;00m\n\u001b[1;32m----> 3\u001b[0m \u001b[38;5;28mprint\u001b[39m(\u001b[38;5;28mtype\u001b[39m(np\u001b[38;5;241m.\u001b[39masjahshsh))\n",
      "File \u001b[1;32mC:\\ProgramData\\anaconda3\\Lib\\site-packages\\numpy\\__init__.py:333\u001b[0m, in \u001b[0;36m__getattr__\u001b[1;34m(attr)\u001b[0m\n\u001b[0;32m    330\u001b[0m     \u001b[38;5;124m\"\u001b[39m\u001b[38;5;124mRemoved in NumPy 1.25.0\u001b[39m\u001b[38;5;124m\"\u001b[39m\n\u001b[0;32m    331\u001b[0m     \u001b[38;5;28;01mraise\u001b[39;00m \u001b[38;5;167;01mRuntimeError\u001b[39;00m(\u001b[38;5;124m\"\u001b[39m\u001b[38;5;124mTester was removed in NumPy 1.25.\u001b[39m\u001b[38;5;124m\"\u001b[39m)\n\u001b[1;32m--> 333\u001b[0m \u001b[38;5;28;01mraise\u001b[39;00m \u001b[38;5;167;01mAttributeError\u001b[39;00m(\u001b[38;5;124m\"\u001b[39m\u001b[38;5;124mmodule \u001b[39m\u001b[38;5;132;01m{!r}\u001b[39;00m\u001b[38;5;124m has no attribute \u001b[39m\u001b[38;5;124m\"\u001b[39m\n\u001b[0;32m    334\u001b[0m                      \u001b[38;5;124m\"\u001b[39m\u001b[38;5;132;01m{!r}\u001b[39;00m\u001b[38;5;124m\"\u001b[39m\u001b[38;5;241m.\u001b[39mformat(\u001b[38;5;18m__name__\u001b[39m, attr))\n",
      "\u001b[1;31mAttributeError\u001b[0m: module 'numpy' has no attribute 'asjahshsh'"
     ]
    }
   ],
   "source": [
    "# what if ufunc does not exits:\n",
    "import numpy as np\n",
    "print(type(np.asjahshsh))"
   ]
  },
  {
   "cell_type": "code",
   "execution_count": 6,
   "id": "5c3a2b07-7574-4bf1-9ed1-c884723d2e3d",
   "metadata": {},
   "outputs": [
    {
     "name": "stdout",
     "output_type": "stream",
     "text": [
      "Yes,this function is ufunc\n"
     ]
    }
   ],
   "source": [
    "# use an if ststement to check if the function the function a ufunc or not.\n",
    "\n",
    "import numpy as np\n",
    "if type(np.add)==np.ufunc:\n",
    "    print('Yes,this function is ufunc')\n",
    "else:\n",
    "    print('This function is not an ufunc')"
   ]
  }
 ],
 "metadata": {
  "kernelspec": {
   "display_name": "Python 3 (ipykernel)",
   "language": "python",
   "name": "python3"
  },
  "language_info": {
   "codemirror_mode": {
    "name": "ipython",
    "version": 3
   },
   "file_extension": ".py",
   "mimetype": "text/x-python",
   "name": "python",
   "nbconvert_exporter": "python",
   "pygments_lexer": "ipython3",
   "version": "3.12.7"
  }
 },
 "nbformat": 4,
 "nbformat_minor": 5
}
