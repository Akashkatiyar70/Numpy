{
 "cells": [
  {
   "cell_type": "markdown",
   "id": "c47acd5b-b1d1-417b-81fc-e35ec5909bfb",
   "metadata": {},
   "source": [
    "summations : difference : addition is done b/w 2 argyments where summation happens \n",
    "over n elements.\n"
   ]
  },
  {
   "cell_type": "code",
   "execution_count": 1,
   "id": "3a19b57c-10b2-485e-b4f7-429f02b817cb",
   "metadata": {},
   "outputs": [
    {
     "name": "stdout",
     "output_type": "stream",
     "text": [
      "[2 4 6]\n"
     ]
    }
   ],
   "source": [
    "# adding the 2 array.\n",
    "import numpy as np\n",
    "ak1=np.array([1,2,3])\n",
    "ak2=np.array([1,2,3])\n",
    "ak3=np.add(ak1,ak2)\n",
    "print(ak3)"
   ]
  },
  {
   "cell_type": "code",
   "execution_count": 3,
   "id": "86c5b7ae-7165-4c03-9fc2-1785401a98e3",
   "metadata": {},
   "outputs": [
    {
     "name": "stdout",
     "output_type": "stream",
     "text": [
      "12\n"
     ]
    }
   ],
   "source": [
    "# sumation\n",
    "import numpy as np\n",
    "ak1=np.array([1,2,3])\n",
    "ak2=np.array([1,2,3])\n",
    "ak3=np.sum([ak1,ak2])\n",
    "print(ak3)"
   ]
  },
  {
   "cell_type": "code",
   "execution_count": 8,
   "id": "e776e867-89f0-4c19-a007-4e7a2c40ff86",
   "metadata": {},
   "outputs": [
    {
     "name": "stdout",
     "output_type": "stream",
     "text": [
      "12\n",
      "[2 4 6]\n",
      "[6 6]\n"
     ]
    }
   ],
   "source": [
    "# sumation over an axis:If you specify axis=1, NumPy will sum the numbers in each array.\n",
    "import numpy as np\n",
    "ak1=np.array([1,2,3])\n",
    "ak2=np.array([1,2,3])\n",
    "ak3=np.sum([ak1,ak2],axis=0)\n",
    "ak4=np.sum([ak1,ak2],axis=1)\n",
    "ak5=np.sum([ak1,ak2])\n",
    "print(ak5)\n",
    "print(ak3)\n",
    "print(ak4)"
   ]
  },
  {
   "cell_type": "code",
   "execution_count": 10,
   "id": "ea87360c-a3a6-4cda-940f-491e051e7cd1",
   "metadata": {},
   "outputs": [
    {
     "name": "stdout",
     "output_type": "stream",
     "text": [
      "[1 3 6]\n"
     ]
    }
   ],
   "source": [
    "# Cummulative Sum\n",
    "\n",
    "# Cummulative sum means partially adding the elements in array.\n",
    "# E.g. The partial sum of [1, 2, 3, 4] would be [1, 1+2, 1+2+3, 1+2+3+4] = [1, 3, 6, 10].\n",
    "# Perfom partial sum with the cumsum() function.\n",
    "\n",
    "import numpy as np\n",
    "ak = np.array([1,2,3])\n",
    "ak1 = np.cumsum(ak)\n",
    "print(ak1)\n"
   ]
  }
 ],
 "metadata": {
  "kernelspec": {
   "display_name": "Python 3 (ipykernel)",
   "language": "python",
   "name": "python3"
  },
  "language_info": {
   "codemirror_mode": {
    "name": "ipython",
    "version": 3
   },
   "file_extension": ".py",
   "mimetype": "text/x-python",
   "name": "python",
   "nbconvert_exporter": "python",
   "pygments_lexer": "ipython3",
   "version": "3.12.7"
  }
 },
 "nbformat": 4,
 "nbformat_minor": 5
}
