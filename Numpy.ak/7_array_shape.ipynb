{
 "cells": [
  {
   "cell_type": "code",
   "execution_count": null,
   "id": "56e071e1-df4a-415d-ae65-53bf2b99090e",
   "metadata": {},
   "outputs": [],
   "source": [
    "#shape of an array - the shap of an array is the number of element in each dimensions.\n",
    "# Now we will try to get the shape of any array.\n",
    "import numpy as np\n",
    "ak=np.array([[1,2,3,4],[5,6,7,8,]])\n",
    "print(ak.shape)\n",
    "\n",
    "#(2, 4) which means the array has 2 dimensions and it has 4 elements\n"
   ]
  },
  {
   "cell_type": "code",
   "execution_count": 2,
   "id": "6a77ef81-5682-4183-a746-58215204d970",
   "metadata": {},
   "outputs": [
    {
     "name": "stdout",
     "output_type": "stream",
     "text": [
      "[[[[[1 2 3 4]]]]]\n",
      "Shape of array is (1, 1, 1, 1, 4)\n"
     ]
    }
   ],
   "source": [
    "# now we will create a 5-D array using ndmin.\n",
    "import numpy as np \n",
    "ak=np.array([1,2,3,4,],ndmin=5)\n",
    "print(ak)\n",
    "print('Shape of array is',ak.shape)"
   ]
  }
 ],
 "metadata": {
  "kernelspec": {
   "display_name": "Python 3 (ipykernel)",
   "language": "python",
   "name": "python3"
  },
  "language_info": {
   "codemirror_mode": {
    "name": "ipython",
    "version": 3
   },
   "file_extension": ".py",
   "mimetype": "text/x-python",
   "name": "python",
   "nbconvert_exporter": "python",
   "pygments_lexer": "ipython3",
   "version": "3.12.7"
  }
 },
 "nbformat": 4,
 "nbformat_minor": 5
}
