{
 "cells": [
  {
   "cell_type": "code",
   "execution_count": 4,
   "id": "e7b12559-e3f5-4523-95df-e4431f006917",
   "metadata": {},
   "outputs": [
    {
     "name": "stdout",
     "output_type": "stream",
     "text": [
      "[[ 1  2  3]\n",
      " [ 4  5  6]\n",
      " [ 7  8  9]\n",
      " [10 11 12]]\n"
     ]
    }
   ],
   "source": [
    "#re-shaping the shape of an array,like adding or removing the elements.\n",
    "\n",
    "#re-shaping from 1-D to 2-D\n",
    "\n",
    "import numpy as np\n",
    "ak = np.array([1,2,3,4,5,6,7,8,9,10,11,12])\n",
    "ak1= ak.reshape(4,3)\n",
    "print(ak1)"
   ]
  },
  {
   "cell_type": "code",
   "execution_count": 5,
   "id": "b874a7f6-57e3-45e1-b95d-dbf9bd8dc875",
   "metadata": {},
   "outputs": [
    {
     "name": "stdout",
     "output_type": "stream",
     "text": [
      "[[[ 1  2]\n",
      "  [ 3  4]\n",
      "  [ 5  6]]\n",
      "\n",
      " [[ 7  8]\n",
      "  [ 9 10]\n",
      "  [11 12]]]\n"
     ]
    }
   ],
   "source": [
    "# re-shaping from 1-D to 3-D\n",
    "import numpy as np\n",
    "ak = np.array([1,2,3,4,5,6,7,8,9,10,11,12])\n",
    "ak1= ak.reshape(2,3,2)\n",
    "print(ak1)"
   ]
  },
  {
   "cell_type": "code",
   "execution_count": 9,
   "id": "8acd1d94-996d-4efa-a355-43a06279fdbd",
   "metadata": {},
   "outputs": [
    {
     "name": "stdout",
     "output_type": "stream",
     "text": [
      "[1 2 3 4 5 6 7 8]\n"
     ]
    }
   ],
   "source": [
    "import numpy as np\n",
    "ak = np.array([1,2,3,4,5,6,7,8])\n",
    "# ak1= ak.reshape(3,3)\n",
    "ak1= (ak.reshape(2,4).base)\n",
    "print(ak1)"
   ]
  },
  {
   "cell_type": "code",
   "execution_count": 11,
   "id": "0d6394c1-cd57-4a29-886f-7508400116a9",
   "metadata": {},
   "outputs": [
    {
     "name": "stdout",
     "output_type": "stream",
     "text": [
      "[[[1 2]\n",
      "  [3 4]]\n",
      "\n",
      " [[5 6]\n",
      "  [7 8]]]\n"
     ]
    }
   ],
   "source": [
    "# unknow dimension - you are only allowed to have one unknow dimension.pass -1.\n",
    "import numpy as np\n",
    "ak = np.array([1,2,3,4,5,6,7,8])\n",
    "ak1= ak.reshape(2,2,-1)\n",
    "print(ak1)\n"
   ]
  },
  {
   "cell_type": "code",
   "execution_count": 13,
   "id": "22b67255-4e4a-4a75-be72-dfa5b39b3151",
   "metadata": {},
   "outputs": [
    {
     "name": "stdout",
     "output_type": "stream",
     "text": [
      "[1 2 3 4 5 6]\n"
     ]
    }
   ],
   "source": [
    "#Flattening the array by converting multidimensional array in 1-D\n",
    "import numpy as np\n",
    "ak=np.array([[1,2,3],[4,5,6]])\n",
    "ak1=ak.reshape(-1)\n",
    "print(ak1)\n",
    "\n",
    "# there are alot of function for changing the shapes of an in array in nupy.\n",
    "# like flatten, ravel and also rearranging  the element rot90,flip,flipir,flipud.\n",
    "#they all are actually comes under advanced numpy."
   ]
  }
 ],
 "metadata": {
  "kernelspec": {
   "display_name": "Python 3 (ipykernel)",
   "language": "python",
   "name": "python3"
  },
  "language_info": {
   "codemirror_mode": {
    "name": "ipython",
    "version": 3
   },
   "file_extension": ".py",
   "mimetype": "text/x-python",
   "name": "python",
   "nbconvert_exporter": "python",
   "pygments_lexer": "ipython3",
   "version": "3.12.7"
  }
 },
 "nbformat": 4,
 "nbformat_minor": 5
}
