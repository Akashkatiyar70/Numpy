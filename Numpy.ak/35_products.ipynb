{
 "cells": [
  {
   "cell_type": "code",
   "execution_count": 1,
   "id": "dce6fd60-fcf1-4738-9166-167679643d3b",
   "metadata": {},
   "outputs": [
    {
     "name": "stdout",
     "output_type": "stream",
     "text": [
      "24\n"
     ]
    }
   ],
   "source": [
    "# products: use prod() function.\n",
    "# here we will find the products of the elements of the below array:\n",
    "\n",
    "import numpy as np\n",
    "ak=np.array([1,2,3,4])      # because 1*2*3*4 = 24\n",
    "ak1=np.prod(ak)\n",
    "print(ak1)"
   ]
  },
  {
   "cell_type": "code",
   "execution_count": 3,
   "id": "8ec28525-069b-4854-88b7-cc1fd06a8f48",
   "metadata": {},
   "outputs": [
    {
     "name": "stdout",
     "output_type": "stream",
     "text": [
      "40320\n"
     ]
    }
   ],
   "source": [
    "# here we will find the products of elements in 2 different array:\n",
    "import numpy as np\n",
    "ak1 = np.array([1,2,3,4])\n",
    "ak2=np.array([5,6,7,8])\n",
    "ak3=np.prod([ak1,ak2])\n",
    "print(ak3)"
   ]
  },
  {
   "cell_type": "code",
   "execution_count": 4,
   "id": "d078fb94-ca84-461b-bb69-66c5c5d19e30",
   "metadata": {},
   "outputs": [
    {
     "name": "stdout",
     "output_type": "stream",
     "text": [
      "[  24 1680]\n"
     ]
    }
   ],
   "source": [
    "# products an axis:\n",
    "import numpy as np\n",
    "ak1 = np.array([1,2,3,4])\n",
    "ak2=np.array([5,6,7,8])\n",
    "ak3=np.prod([ak1,ak2],axis=1)\n",
    "print(ak3)"
   ]
  },
  {
   "cell_type": "markdown",
   "id": "0385e78e-0fb5-47c0-96ee-a2cd6e93fa4c",
   "metadata": {},
   "source": [
    "Cummulative Product\n",
    "Cummulative product means taking the product partially.\n",
    "\n",
    "E.g. The partial product of [1, 2, 3, 4] is [1, 1*2, 1*2*3, 1*2*3*4] = [1, 2, 6, 24]\n",
    "\n",
    "Perfom partial sum with the cumprod() function."
   ]
  },
  {
   "cell_type": "code",
   "execution_count": 5,
   "id": "c7e49497-205b-4812-8a38-370e48ada22b",
   "metadata": {},
   "outputs": [
    {
     "name": "stdout",
     "output_type": "stream",
     "text": [
      "[    1     2     6    24   120   720  5040 40320]\n"
     ]
    }
   ],
   "source": [
    "import numpy as np\n",
    "ak = np.array([1,2,3,4,5,6,7,8])\n",
    "ak1=np.cumprod(ak)\n",
    "print(ak1)"
   ]
  }
 ],
 "metadata": {
  "kernelspec": {
   "display_name": "Python 3 (ipykernel)",
   "language": "python",
   "name": "python3"
  },
  "language_info": {
   "codemirror_mode": {
    "name": "ipython",
    "version": 3
   },
   "file_extension": ".py",
   "mimetype": "text/x-python",
   "name": "python",
   "nbconvert_exporter": "python",
   "pygments_lexer": "ipython3",
   "version": "3.12.7"
  }
 },
 "nbformat": 4,
 "nbformat_minor": 5
}
