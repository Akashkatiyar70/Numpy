{
 "cells": [
  {
   "cell_type": "code",
   "execution_count": 1,
   "id": "7008ee97-60fb-4876-8ed4-22521ad535bc",
   "metadata": {},
   "outputs": [
    {
     "name": "stdout",
     "output_type": "stream",
     "text": [
      "1\n",
      "2\n",
      "3\n"
     ]
    }
   ],
   "source": [
    "# Iterating array - means going through the elements one by one or step by step like for loop\n",
    "\n",
    "#Iterate the element of 1-D\n",
    "import numpy as np\n",
    "ak=np.array([1,2,3])\n",
    "for i in ak:\n",
    "    print(i)"
   ]
  },
  {
   "cell_type": "code",
   "execution_count": 2,
   "id": "ec402438-a877-43fb-92f7-940d5c3430ca",
   "metadata": {},
   "outputs": [
    {
     "name": "stdout",
     "output_type": "stream",
     "text": [
      "[1 2 3]\n",
      "[4 5 6]\n"
     ]
    }
   ],
   "source": [
    "# Iterate 2-D\n",
    "import numpy as np\n",
    "ak=np.array([[1,2,3],[4,5,6]])\n",
    "for i in ak:\n",
    "    print(i)"
   ]
  },
  {
   "cell_type": "code",
   "execution_count": 5,
   "id": "be116d52-b4de-4517-9d33-a61ff4661fd3",
   "metadata": {},
   "outputs": [
    {
     "name": "stdout",
     "output_type": "stream",
     "text": [
      "1\n",
      "2\n",
      "3\n",
      "4\n",
      "5\n",
      "6\n"
     ]
    }
   ],
   "source": [
    "# Iterate on each scalar element of the 2-D\n",
    "import numpy as np\n",
    "ak=np.array([[1,2,3],[4,5,6]])\n",
    "for i in ak:\n",
    "    for a in i:\n",
    "      print(a)"
   ]
  },
  {
   "cell_type": "code",
   "execution_count": 8,
   "id": "f8672c25-b67d-4143-8d28-de82771deac6",
   "metadata": {},
   "outputs": [
    {
     "name": "stdout",
     "output_type": "stream",
     "text": [
      "1\n",
      "2\n",
      "3\n",
      "4\n",
      "5\n",
      "6\n",
      "7\n",
      "8\n",
      "9\n",
      "10\n",
      "11\n",
      "12\n"
     ]
    }
   ],
   "source": [
    "# Iterate 3-D\n",
    "\n",
    "import numpy as np\n",
    "ak = np.array([[[1,2,3],[4,5,6],[7,8,9],[10,11,12]]])\n",
    "for i in ak:\n",
    "    for a in i:\n",
    "        for b in a:\n",
    "           print(b)"
   ]
  },
  {
   "cell_type": "code",
   "execution_count": 12,
   "id": "73ce8bed-3efb-41f9-aa67-340a594e88fa",
   "metadata": {},
   "outputs": [
    {
     "name": "stdout",
     "output_type": "stream",
     "text": [
      "1\n",
      "2\n",
      "3\n",
      "4\n",
      "5\n",
      "6\n",
      "7\n",
      "8\n"
     ]
    }
   ],
   "source": [
    "# Iterating arrays using the nditer() function.\n",
    "# Now we will Iterate on each scalar element.\n",
    "\n",
    "import numpy as np\n",
    "ak = np.array([[[1,2],[3,4],[5,6],[7,8]]])\n",
    "for i in np.nditer(ak):\n",
    "    print(i)"
   ]
  },
  {
   "cell_type": "code",
   "execution_count": 17,
   "id": "30088c4b-a530-4ea5-8581-92595b086f89",
   "metadata": {},
   "outputs": [
    {
     "name": "stdout",
     "output_type": "stream",
     "text": [
      "1\n",
      "3\n",
      "5\n",
      "7\n"
     ]
    }
   ],
   "source": [
    "## Now we will Iterate  with different step sizes.\n",
    "import numpy as np\n",
    "ak = np.array([[1,2,3,5],[5,6,7,8]])\n",
    "for i in np.nditer(ak[: ,::2]):\n",
    "    print(i)"
   ]
  }
 ],
 "metadata": {
  "kernelspec": {
   "display_name": "Python 3 (ipykernel)",
   "language": "python",
   "name": "python3"
  },
  "language_info": {
   "codemirror_mode": {
    "name": "ipython",
    "version": 3
   },
   "file_extension": ".py",
   "mimetype": "text/x-python",
   "name": "python",
   "nbconvert_exporter": "python",
   "pygments_lexer": "ipython3",
   "version": "3.12.7"
  }
 },
 "nbformat": 4,
 "nbformat_minor": 5
}
