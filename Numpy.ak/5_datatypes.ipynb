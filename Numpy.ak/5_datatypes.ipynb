{
 "cells": [
  {
   "cell_type": "code",
   "execution_count": 4,
   "id": "aece7ac7-2ee5-48b5-9734-aa5de257e0c3",
   "metadata": {},
   "outputs": [
    {
     "name": "stdout",
     "output_type": "stream",
     "text": [
      "int32\n"
     ]
    }
   ],
   "source": [
    "# datatype in Python: String, integer,float, boolean,complex\n",
    "# datatype in numpy\n",
    "# i for interger\n",
    "# b for boolean\n",
    "# u for unsigned integer\n",
    "# f for float\n",
    "# c for complex\n",
    "# m for timedelta\n",
    "# M for datetime\n",
    "# O for object\n",
    "# S for string\n",
    "# U for unicode string\n",
    "# V for memory\n",
    "\n",
    "# cheacking the datatype of numpy array -dtype\n",
    "import numpy as np\n",
    "ak=np.array([1,2,3,4,])\n",
    "print(ak.dtype)\n"
   ]
  },
  {
   "cell_type": "code",
   "execution_count": 6,
   "id": "6e8d2e6a-e679-47fe-9ecc-84fbb99e63a9",
   "metadata": {},
   "outputs": [
    {
     "name": "stdout",
     "output_type": "stream",
     "text": [
      "<U6\n"
     ]
    }
   ],
   "source": [
    "# cheacking the datatype of numpy array -string\n",
    "import numpy as np\n",
    "ak=np.array(['akash','vikash','ajay'])\n",
    "print(ak.dtype)\n"
   ]
  },
  {
   "cell_type": "code",
   "execution_count": 8,
   "id": "49d64e51-51fb-4d69-84db-2fbf0b402399",
   "metadata": {},
   "outputs": [
    {
     "name": "stdout",
     "output_type": "stream",
     "text": [
      "[b'1' b'2' b'3' b'4']\n",
      "|S1\n"
     ]
    }
   ],
   "source": [
    "# creating array with a defined data type:\n",
    "import numpy as np\n",
    "ak = np.array([1,2,3,4],dtype='S')\n",
    "print(ak)\n",
    "print(ak.dtype)\n"
   ]
  },
  {
   "cell_type": "code",
   "execution_count": 10,
   "id": "10898bcf-8d8a-4adb-84ec-b1c7cde129d3",
   "metadata": {},
   "outputs": [
    {
     "name": "stdout",
     "output_type": "stream",
     "text": [
      "[1 2 3 4]\n",
      "int32\n"
     ]
    }
   ],
   "source": [
    "# now we will create an array with data type of 4 byte int\n",
    "import numpy as np\n",
    "ak = np.array([1,2,3,4],dtype='i4')\n",
    "print(ak)\n",
    "print(ak.dtype)"
   ]
  },
  {
   "cell_type": "code",
   "execution_count": 11,
   "id": "bd24cda2-d9e0-484f-a588-1e3c2eebfce9",
   "metadata": {},
   "outputs": [
    {
     "ename": "ValueError",
     "evalue": "invalid literal for int() with base 10: 'a'",
     "output_type": "error",
     "traceback": [
      "\u001b[1;31m---------------------------------------------------------------------------\u001b[0m",
      "\u001b[1;31mValueError\u001b[0m                                Traceback (most recent call last)",
      "Cell \u001b[1;32mIn[11], line 3\u001b[0m\n\u001b[0;32m      1\u001b[0m \u001b[38;5;66;03m# if a type is given which the element cannot be casted then numpy will raise error. what if a value cannot be converted?.\u001b[39;00m\n\u001b[0;32m      2\u001b[0m \u001b[38;5;28;01mimport\u001b[39;00m \u001b[38;5;21;01mnumpy\u001b[39;00m \u001b[38;5;28;01mas\u001b[39;00m \u001b[38;5;21;01mnp\u001b[39;00m\n\u001b[1;32m----> 3\u001b[0m ak \u001b[38;5;241m=\u001b[39m np\u001b[38;5;241m.\u001b[39marray([\u001b[38;5;124m'\u001b[39m\u001b[38;5;124ma\u001b[39m\u001b[38;5;124m'\u001b[39m,\u001b[38;5;124m'\u001b[39m\u001b[38;5;124m2\u001b[39m\u001b[38;5;124m'\u001b[39m,\u001b[38;5;124m'\u001b[39m\u001b[38;5;124m3\u001b[39m\u001b[38;5;124m'\u001b[39m],dtype\u001b[38;5;241m=\u001b[39m\u001b[38;5;124m'\u001b[39m\u001b[38;5;124mi\u001b[39m\u001b[38;5;124m'\u001b[39m)\n\u001b[0;32m      4\u001b[0m \u001b[38;5;28mprint\u001b[39m(ak)\n\u001b[0;32m      5\u001b[0m \u001b[38;5;28mprint\u001b[39m(ak\u001b[38;5;241m.\u001b[39mdtype)\n",
      "\u001b[1;31mValueError\u001b[0m: invalid literal for int() with base 10: 'a'"
     ]
    }
   ],
   "source": [
    "# if a type is given which the element cannot be casted then numpy will raise error. what if a value cannot be converted?.\n",
    "import numpy as np\n",
    "ak = np.array(['a','2','3'],dtype='i')\n",
    "print(ak)\n",
    "print(ak.dtype)"
   ]
  },
  {
   "cell_type": "code",
   "execution_count": 5,
   "id": "42a8a827-c345-42a7-9a29-4efd072ded2d",
   "metadata": {},
   "outputs": [
    {
     "name": "stdout",
     "output_type": "stream",
     "text": [
      "[1 2 3]\n",
      "int32\n"
     ]
    }
   ],
   "source": [
    "# Converting data type  in existing array - astype()\n",
    "import numpy as np \n",
    "ak=np.array([1.1,2.1,3.1])\n",
    "ak1=ak.astype(int)\n",
    "ak1=ak.astype('i')\n",
    "\n",
    "print(ak1)\n",
    "print(ak1.dtype)"
   ]
  },
  {
   "cell_type": "code",
   "execution_count": 3,
   "id": "8e332139-f1b6-41bf-9755-2707a070ac51",
   "metadata": {},
   "outputs": [
    {
     "name": "stdout",
     "output_type": "stream",
     "text": [
      "[ True False  True]\n",
      "bool\n"
     ]
    }
   ],
   "source": [
    "# Converting data type from iterger to boolean\n",
    "import numpy as np \n",
    "ak=np.array([1,0,3])\n",
    "ak1=ak.astype(bool)\n",
    "print(ak1)\n",
    "print(ak1.dtype)"
   ]
  }
 ],
 "metadata": {
  "kernelspec": {
   "display_name": "Python 3 (ipykernel)",
   "language": "python",
   "name": "python3"
  },
  "language_info": {
   "codemirror_mode": {
    "name": "ipython",
    "version": 3
   },
   "file_extension": ".py",
   "mimetype": "text/x-python",
   "name": "python",
   "nbconvert_exporter": "python",
   "pygments_lexer": "ipython3",
   "version": "3.12.7"
  }
 },
 "nbformat": 4,
 "nbformat_minor": 5
}
